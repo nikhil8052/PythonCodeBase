{
 "cells": [
  {
   "cell_type": "markdown",
   "id": "72f1ad16",
   "metadata": {},
   "source": [
    "# pandas code base github \n",
    "# https://github.com/pandas-dev/pandas\n",
    " Nikhi's Notebook for Pandas "
   ]
  },
  {
   "cell_type": "code",
   "execution_count": 4,
   "id": "621e7e6e",
   "metadata": {},
   "outputs": [
    {
     "name": "stdout",
     "output_type": "stream",
     "text": [
      "First line in jypyter \n"
     ]
    }
   ],
   "source": [
    "print(\"First line in jypyter \")"
   ]
  },
  {
   "cell_type": "markdown",
   "id": "038eabfa",
   "metadata": {},
   "source": [
    " Build DataFrame from the Dictinary"
   ]
  },
  {
   "cell_type": "code",
   "execution_count": 5,
   "id": "074645b9",
   "metadata": {},
   "outputs": [
    {
     "data": {
      "text/html": [
       "<div>\n",
       "<style scoped>\n",
       "    .dataframe tbody tr th:only-of-type {\n",
       "        vertical-align: middle;\n",
       "    }\n",
       "\n",
       "    .dataframe tbody tr th {\n",
       "        vertical-align: top;\n",
       "    }\n",
       "\n",
       "    .dataframe thead th {\n",
       "        text-align: right;\n",
       "    }\n",
       "</style>\n",
       "<table border=\"1\" class=\"dataframe\">\n",
       "  <thead>\n",
       "    <tr style=\"text-align: right;\">\n",
       "      <th></th>\n",
       "      <th>Users</th>\n",
       "      <th>Hobby</th>\n",
       "    </tr>\n",
       "  </thead>\n",
       "  <tbody>\n",
       "    <tr>\n",
       "      <th>0</th>\n",
       "      <td>Nikhil</td>\n",
       "      <td>Coding</td>\n",
       "    </tr>\n",
       "    <tr>\n",
       "      <th>1</th>\n",
       "      <td>Moksh</td>\n",
       "      <td>Coding</td>\n",
       "    </tr>\n",
       "    <tr>\n",
       "      <th>2</th>\n",
       "      <td>Rishika</td>\n",
       "      <td>Nothing</td>\n",
       "    </tr>\n",
       "  </tbody>\n",
       "</table>\n",
       "</div>"
      ],
      "text/plain": [
       "     Users    Hobby\n",
       "0   Nikhil   Coding\n",
       "1    Moksh   Coding\n",
       "2  Rishika  Nothing"
      ]
     },
     "execution_count": 5,
     "metadata": {},
     "output_type": "execute_result"
    }
   ],
   "source": [
    "import pandas as pd\n",
    "users = {\n",
    "  'Users': [\"Nikhil\", \"Moksh\", \"Rishika\"],\n",
    "  'Hobby': [\"Coding\", \"Coding\", \"Nothing\"]\n",
    "}\n",
    "\n",
    "users_df=pd.DataFrame(users)\n",
    "users_df\n",
    "\n"
   ]
  },
  {
   "cell_type": "markdown",
   "id": "387688f1",
   "metadata": {},
   "source": [
    "Read csv Files using pandas "
   ]
  },
  {
   "cell_type": "code",
   "execution_count": 6,
   "id": "0adfc8f1",
   "metadata": {},
   "outputs": [
    {
     "data": {
      "text/html": [
       "<div>\n",
       "<style scoped>\n",
       "    .dataframe tbody tr th:only-of-type {\n",
       "        vertical-align: middle;\n",
       "    }\n",
       "\n",
       "    .dataframe tbody tr th {\n",
       "        vertical-align: top;\n",
       "    }\n",
       "\n",
       "    .dataframe thead th {\n",
       "        text-align: right;\n",
       "    }\n",
       "</style>\n",
       "<table border=\"1\" class=\"dataframe\">\n",
       "  <thead>\n",
       "    <tr style=\"text-align: right;\">\n",
       "      <th></th>\n",
       "      <th>school</th>\n",
       "      <th>sex</th>\n",
       "      <th>age</th>\n",
       "      <th>address</th>\n",
       "      <th>famsize</th>\n",
       "      <th>Pstatus</th>\n",
       "      <th>Medu</th>\n",
       "      <th>Fedu</th>\n",
       "      <th>Mjob</th>\n",
       "      <th>Fjob</th>\n",
       "      <th>...</th>\n",
       "      <th>famrel</th>\n",
       "      <th>freetime</th>\n",
       "      <th>goout</th>\n",
       "      <th>Dalc</th>\n",
       "      <th>Walc</th>\n",
       "      <th>health</th>\n",
       "      <th>absences</th>\n",
       "      <th>G1</th>\n",
       "      <th>G2</th>\n",
       "      <th>G3</th>\n",
       "    </tr>\n",
       "  </thead>\n",
       "  <tbody>\n",
       "    <tr>\n",
       "      <th>0</th>\n",
       "      <td>GP</td>\n",
       "      <td>F</td>\n",
       "      <td>18</td>\n",
       "      <td>U</td>\n",
       "      <td>GT3</td>\n",
       "      <td>A</td>\n",
       "      <td>4</td>\n",
       "      <td>4</td>\n",
       "      <td>at_home</td>\n",
       "      <td>teacher</td>\n",
       "      <td>...</td>\n",
       "      <td>4</td>\n",
       "      <td>3</td>\n",
       "      <td>4</td>\n",
       "      <td>1</td>\n",
       "      <td>1</td>\n",
       "      <td>3</td>\n",
       "      <td>6</td>\n",
       "      <td>5</td>\n",
       "      <td>6</td>\n",
       "      <td>6</td>\n",
       "    </tr>\n",
       "    <tr>\n",
       "      <th>1</th>\n",
       "      <td>GP</td>\n",
       "      <td>F</td>\n",
       "      <td>17</td>\n",
       "      <td>U</td>\n",
       "      <td>GT3</td>\n",
       "      <td>T</td>\n",
       "      <td>1</td>\n",
       "      <td>1</td>\n",
       "      <td>at_home</td>\n",
       "      <td>other</td>\n",
       "      <td>...</td>\n",
       "      <td>5</td>\n",
       "      <td>3</td>\n",
       "      <td>3</td>\n",
       "      <td>1</td>\n",
       "      <td>1</td>\n",
       "      <td>3</td>\n",
       "      <td>4</td>\n",
       "      <td>5</td>\n",
       "      <td>5</td>\n",
       "      <td>6</td>\n",
       "    </tr>\n",
       "  </tbody>\n",
       "</table>\n",
       "<p>2 rows × 33 columns</p>\n",
       "</div>"
      ],
      "text/plain": [
       "  school sex  age address famsize Pstatus  Medu  Fedu     Mjob     Fjob  ...  \\\n",
       "0     GP   F   18       U     GT3       A     4     4  at_home  teacher  ...   \n",
       "1     GP   F   17       U     GT3       T     1     1  at_home    other  ...   \n",
       "\n",
       "  famrel freetime  goout  Dalc  Walc health absences G1 G2 G3  \n",
       "0      4        3      4     1     1      3        6  5  6  6  \n",
       "1      5        3      3     1     1      3        4  5  5  6  \n",
       "\n",
       "[2 rows x 33 columns]"
      ]
     },
     "execution_count": 6,
     "metadata": {},
     "output_type": "execute_result"
    }
   ],
   "source": [
    "df=pd.read_csv(\"D:/python_projects/datasets/student_data.csv\")\n",
    "df.head(2)  # Head function to get 5 counts from the begining "
   ]
  },
  {
   "cell_type": "markdown",
   "id": "4d95b224",
   "metadata": {},
   "source": [
    "Last 5 counts of Dataframe "
   ]
  },
  {
   "cell_type": "code",
   "execution_count": 7,
   "id": "e70c63fa",
   "metadata": {},
   "outputs": [
    {
     "data": {
      "text/html": [
       "<div>\n",
       "<style scoped>\n",
       "    .dataframe tbody tr th:only-of-type {\n",
       "        vertical-align: middle;\n",
       "    }\n",
       "\n",
       "    .dataframe tbody tr th {\n",
       "        vertical-align: top;\n",
       "    }\n",
       "\n",
       "    .dataframe thead th {\n",
       "        text-align: right;\n",
       "    }\n",
       "</style>\n",
       "<table border=\"1\" class=\"dataframe\">\n",
       "  <thead>\n",
       "    <tr style=\"text-align: right;\">\n",
       "      <th></th>\n",
       "      <th>school</th>\n",
       "      <th>sex</th>\n",
       "      <th>age</th>\n",
       "      <th>address</th>\n",
       "      <th>famsize</th>\n",
       "      <th>Pstatus</th>\n",
       "      <th>Medu</th>\n",
       "      <th>Fedu</th>\n",
       "      <th>Mjob</th>\n",
       "      <th>Fjob</th>\n",
       "      <th>...</th>\n",
       "      <th>famrel</th>\n",
       "      <th>freetime</th>\n",
       "      <th>goout</th>\n",
       "      <th>Dalc</th>\n",
       "      <th>Walc</th>\n",
       "      <th>health</th>\n",
       "      <th>absences</th>\n",
       "      <th>G1</th>\n",
       "      <th>G2</th>\n",
       "      <th>G3</th>\n",
       "    </tr>\n",
       "  </thead>\n",
       "  <tbody>\n",
       "    <tr>\n",
       "      <th>393</th>\n",
       "      <td>MS</td>\n",
       "      <td>M</td>\n",
       "      <td>18</td>\n",
       "      <td>R</td>\n",
       "      <td>LE3</td>\n",
       "      <td>T</td>\n",
       "      <td>3</td>\n",
       "      <td>2</td>\n",
       "      <td>services</td>\n",
       "      <td>other</td>\n",
       "      <td>...</td>\n",
       "      <td>4</td>\n",
       "      <td>4</td>\n",
       "      <td>1</td>\n",
       "      <td>3</td>\n",
       "      <td>4</td>\n",
       "      <td>5</td>\n",
       "      <td>0</td>\n",
       "      <td>11</td>\n",
       "      <td>12</td>\n",
       "      <td>10</td>\n",
       "    </tr>\n",
       "    <tr>\n",
       "      <th>394</th>\n",
       "      <td>MS</td>\n",
       "      <td>M</td>\n",
       "      <td>19</td>\n",
       "      <td>U</td>\n",
       "      <td>LE3</td>\n",
       "      <td>T</td>\n",
       "      <td>1</td>\n",
       "      <td>1</td>\n",
       "      <td>other</td>\n",
       "      <td>at_home</td>\n",
       "      <td>...</td>\n",
       "      <td>3</td>\n",
       "      <td>2</td>\n",
       "      <td>3</td>\n",
       "      <td>3</td>\n",
       "      <td>3</td>\n",
       "      <td>5</td>\n",
       "      <td>5</td>\n",
       "      <td>8</td>\n",
       "      <td>9</td>\n",
       "      <td>9</td>\n",
       "    </tr>\n",
       "  </tbody>\n",
       "</table>\n",
       "<p>2 rows × 33 columns</p>\n",
       "</div>"
      ],
      "text/plain": [
       "    school sex  age address famsize Pstatus  Medu  Fedu      Mjob     Fjob  \\\n",
       "393     MS   M   18       R     LE3       T     3     2  services    other   \n",
       "394     MS   M   19       U     LE3       T     1     1     other  at_home   \n",
       "\n",
       "     ... famrel freetime  goout  Dalc  Walc health absences  G1  G2  G3  \n",
       "393  ...      4        4      1     3     4      5        0  11  12  10  \n",
       "394  ...      3        2      3     3     3      5        5   8   9   9  \n",
       "\n",
       "[2 rows x 33 columns]"
      ]
     },
     "execution_count": 7,
     "metadata": {},
     "output_type": "execute_result"
    }
   ],
   "source": [
    "df.tail(2) "
   ]
  },
  {
   "cell_type": "markdown",
   "id": "80829c3c",
   "metadata": {},
   "source": [
    "Get the count of Row and Column"
   ]
  },
  {
   "cell_type": "code",
   "execution_count": 8,
   "id": "c6326ab5",
   "metadata": {},
   "outputs": [
    {
     "data": {
      "text/plain": [
       "(395, 33)"
      ]
     },
     "execution_count": 8,
     "metadata": {},
     "output_type": "execute_result"
    }
   ],
   "source": [
    "df.shape "
   ]
  },
  {
   "cell_type": "markdown",
   "id": "9368f134",
   "metadata": {},
   "source": [
    " Print Special column name values "
   ]
  },
  {
   "cell_type": "code",
   "execution_count": 9,
   "id": "27ce74f6",
   "metadata": {},
   "outputs": [
    {
     "data": {
      "text/plain": [
       "0    F\n",
       "1    F\n",
       "Name: sex, dtype: object"
      ]
     },
     "execution_count": 9,
     "metadata": {},
     "output_type": "execute_result"
    }
   ],
   "source": [
    "df['sex'].head(2)"
   ]
  },
  {
   "cell_type": "markdown",
   "id": "e0b66a3a",
   "metadata": {},
   "source": [
    "Values of two columns "
   ]
  },
  {
   "cell_type": "code",
   "execution_count": 10,
   "id": "f83230be",
   "metadata": {},
   "outputs": [
    {
     "data": {
      "text/html": [
       "<div>\n",
       "<style scoped>\n",
       "    .dataframe tbody tr th:only-of-type {\n",
       "        vertical-align: middle;\n",
       "    }\n",
       "\n",
       "    .dataframe tbody tr th {\n",
       "        vertical-align: top;\n",
       "    }\n",
       "\n",
       "    .dataframe thead th {\n",
       "        text-align: right;\n",
       "    }\n",
       "</style>\n",
       "<table border=\"1\" class=\"dataframe\">\n",
       "  <thead>\n",
       "    <tr style=\"text-align: right;\">\n",
       "      <th></th>\n",
       "      <th>sex</th>\n",
       "      <th>Fjob</th>\n",
       "    </tr>\n",
       "  </thead>\n",
       "  <tbody>\n",
       "    <tr>\n",
       "      <th>0</th>\n",
       "      <td>F</td>\n",
       "      <td>teacher</td>\n",
       "    </tr>\n",
       "    <tr>\n",
       "      <th>1</th>\n",
       "      <td>F</td>\n",
       "      <td>other</td>\n",
       "    </tr>\n",
       "  </tbody>\n",
       "</table>\n",
       "</div>"
      ],
      "text/plain": [
       "  sex     Fjob\n",
       "0   F  teacher\n",
       "1   F    other"
      ]
     },
     "execution_count": 10,
     "metadata": {},
     "output_type": "execute_result"
    }
   ],
   "source": [
    "df[['sex','Fjob']].head(2)"
   ]
  },
  {
   "cell_type": "markdown",
   "id": "8ca5170e",
   "metadata": {},
   "source": [
    "# Series in pandas"
   ]
  },
  {
   "cell_type": "markdown",
   "id": "506f65a6",
   "metadata": {},
   "source": [
    "A Pandas Series is like a column in a table.\n",
    "\n",
    "It is a one-dimensional array holding data of any type."
   ]
  },
  {
   "cell_type": "code",
   "execution_count": 11,
   "id": "0f3fa064",
   "metadata": {},
   "outputs": [
    {
     "data": {
      "text/plain": [
       "0    1\n",
       "1    7\n",
       "2    2\n",
       "dtype: int64"
      ]
     },
     "execution_count": 11,
     "metadata": {},
     "output_type": "execute_result"
    }
   ],
   "source": [
    "arr= [1, 7, 2]\n",
    "s = pd.Series(arr)\n",
    "s"
   ]
  },
  {
   "cell_type": "code",
   "execution_count": 12,
   "id": "f7e50b1c",
   "metadata": {},
   "outputs": [
    {
     "data": {
      "text/plain": [
       "1"
      ]
     },
     "execution_count": 12,
     "metadata": {},
     "output_type": "execute_result"
    }
   ],
   "source": [
    "arr[0]"
   ]
  },
  {
   "cell_type": "code",
   "execution_count": 13,
   "id": "9f46a665",
   "metadata": {},
   "outputs": [
    {
     "data": {
      "text/plain": [
       "7"
      ]
     },
     "execution_count": 13,
     "metadata": {},
     "output_type": "execute_result"
    }
   ],
   "source": [
    "arr[1]"
   ]
  },
  {
   "cell_type": "code",
   "execution_count": 14,
   "id": "37cba542",
   "metadata": {},
   "outputs": [
    {
     "data": {
      "text/plain": [
       "2"
      ]
     },
     "execution_count": 14,
     "metadata": {},
     "output_type": "execute_result"
    }
   ],
   "source": [
    "arr[2]"
   ]
  },
  {
   "cell_type": "markdown",
   "id": "9d89dec5",
   "metadata": {},
   "source": [
    "Point out the special row using loc "
   ]
  },
  {
   "cell_type": "code",
   "execution_count": 15,
   "id": "0a925a09",
   "metadata": {},
   "outputs": [
    {
     "data": {
      "text/plain": [
       "school              GP\n",
       "sex                  F\n",
       "age                 15\n",
       "address              U\n",
       "famsize            GT3\n",
       "Pstatus              T\n",
       "Medu                 4\n",
       "Fedu                 2\n",
       "Mjob            health\n",
       "Fjob          services\n",
       "reason            home\n",
       "guardian        mother\n",
       "traveltime           1\n",
       "studytime            3\n",
       "failures             0\n",
       "schoolsup           no\n",
       "famsup             yes\n",
       "paid               yes\n",
       "activities         yes\n",
       "nursery            yes\n",
       "higher             yes\n",
       "internet           yes\n",
       "romantic           yes\n",
       "famrel               3\n",
       "freetime             2\n",
       "goout                2\n",
       "Dalc                 1\n",
       "Walc                 1\n",
       "health               5\n",
       "absences             2\n",
       "G1                  15\n",
       "G2                  14\n",
       "G3                  15\n",
       "Name: 3, dtype: object"
      ]
     },
     "execution_count": 15,
     "metadata": {},
     "output_type": "execute_result"
    }
   ],
   "source": [
    "df=pd.read_csv(\"D:/python_projects/datasets/student_data.csv\")\n",
    "loc_result=df.loc[3]  #All the data of row 3 \n",
    "loc_result"
   ]
  },
  {
   "cell_type": "markdown",
   "id": "615bf9ba",
   "metadata": {},
   "source": [
    "Let's Check loc return type (It's Series Object )"
   ]
  },
  {
   "cell_type": "code",
   "execution_count": 16,
   "id": "9e09acd2",
   "metadata": {},
   "outputs": [
    {
     "data": {
      "text/plain": [
       "pandas.core.series.Series"
      ]
     },
     "execution_count": 16,
     "metadata": {},
     "output_type": "execute_result"
    }
   ],
   "source": [
    "type(loc_result)"
   ]
  },
  {
   "cell_type": "code",
   "execution_count": 17,
   "id": "f02609f0",
   "metadata": {
    "scrolled": true
   },
   "outputs": [
    {
     "data": {
      "text/html": [
       "<div>\n",
       "<style scoped>\n",
       "    .dataframe tbody tr th:only-of-type {\n",
       "        vertical-align: middle;\n",
       "    }\n",
       "\n",
       "    .dataframe tbody tr th {\n",
       "        vertical-align: top;\n",
       "    }\n",
       "\n",
       "    .dataframe thead th {\n",
       "        text-align: right;\n",
       "    }\n",
       "</style>\n",
       "<table border=\"1\" class=\"dataframe\">\n",
       "  <thead>\n",
       "    <tr style=\"text-align: right;\">\n",
       "      <th></th>\n",
       "      <th>school</th>\n",
       "      <th>sex</th>\n",
       "      <th>age</th>\n",
       "      <th>address</th>\n",
       "      <th>famsize</th>\n",
       "      <th>Pstatus</th>\n",
       "      <th>Medu</th>\n",
       "      <th>Fedu</th>\n",
       "      <th>Mjob</th>\n",
       "      <th>Fjob</th>\n",
       "      <th>...</th>\n",
       "      <th>famrel</th>\n",
       "      <th>freetime</th>\n",
       "      <th>goout</th>\n",
       "      <th>Dalc</th>\n",
       "      <th>Walc</th>\n",
       "      <th>health</th>\n",
       "      <th>absences</th>\n",
       "      <th>G1</th>\n",
       "      <th>G2</th>\n",
       "      <th>G3</th>\n",
       "    </tr>\n",
       "  </thead>\n",
       "  <tbody>\n",
       "    <tr>\n",
       "      <th>0</th>\n",
       "      <td>GP</td>\n",
       "      <td>F</td>\n",
       "      <td>18</td>\n",
       "      <td>U</td>\n",
       "      <td>GT3</td>\n",
       "      <td>A</td>\n",
       "      <td>4</td>\n",
       "      <td>4</td>\n",
       "      <td>at_home</td>\n",
       "      <td>teacher</td>\n",
       "      <td>...</td>\n",
       "      <td>4</td>\n",
       "      <td>3</td>\n",
       "      <td>4</td>\n",
       "      <td>1</td>\n",
       "      <td>1</td>\n",
       "      <td>3</td>\n",
       "      <td>6</td>\n",
       "      <td>5</td>\n",
       "      <td>6</td>\n",
       "      <td>6</td>\n",
       "    </tr>\n",
       "    <tr>\n",
       "      <th>30</th>\n",
       "      <td>GP</td>\n",
       "      <td>M</td>\n",
       "      <td>15</td>\n",
       "      <td>U</td>\n",
       "      <td>GT3</td>\n",
       "      <td>T</td>\n",
       "      <td>4</td>\n",
       "      <td>4</td>\n",
       "      <td>health</td>\n",
       "      <td>services</td>\n",
       "      <td>...</td>\n",
       "      <td>5</td>\n",
       "      <td>4</td>\n",
       "      <td>2</td>\n",
       "      <td>3</td>\n",
       "      <td>4</td>\n",
       "      <td>5</td>\n",
       "      <td>0</td>\n",
       "      <td>9</td>\n",
       "      <td>11</td>\n",
       "      <td>12</td>\n",
       "    </tr>\n",
       "  </tbody>\n",
       "</table>\n",
       "<p>2 rows × 33 columns</p>\n",
       "</div>"
      ],
      "text/plain": [
       "   school sex  age address famsize Pstatus  Medu  Fedu     Mjob      Fjob  \\\n",
       "0      GP   F   18       U     GT3       A     4     4  at_home   teacher   \n",
       "30     GP   M   15       U     GT3       T     4     4   health  services   \n",
       "\n",
       "    ... famrel freetime  goout  Dalc  Walc health absences G1  G2  G3  \n",
       "0   ...      4        3      4     1     1      3        6  5   6   6  \n",
       "30  ...      5        4      2     3     4      5        0  9  11  12  \n",
       "\n",
       "[2 rows x 33 columns]"
      ]
     },
     "execution_count": 17,
     "metadata": {},
     "output_type": "execute_result"
    }
   ],
   "source": [
    "df.loc[[0,30]]"
   ]
  },
  {
   "cell_type": "markdown",
   "id": "ac541996",
   "metadata": {},
   "source": [
    "Convert DataFrame in the String  DataFrame.to_string()  will convert to the string and prints all the data."
   ]
  },
  {
   "cell_type": "code",
   "execution_count": 18,
   "id": "5c0c511d",
   "metadata": {},
   "outputs": [
    {
     "data": {
      "text/plain": [
       "'    school sex  age address famsize Pstatus  Medu  Fedu      Mjob      Fjob      reason guardian  traveltime  studytime  failures schoolsup famsup paid activities nursery higher internet romantic  famrel  freetime  goout  Dalc  Walc  health  absences  G1  G2  G3\\n0       GP   F   18       U     GT3       A     4     4   at_home   teacher      course   mother           2          2         0       yes     no   no         no     yes    yes       no       no       4         3      4     1     1       3         6   5   6   6\\n1       GP   F   17       U     GT3       T     1     1   at_home     other      course   father           1          2         0        no    yes   no         no      no    yes      yes       no       5         3      3     1     1       3         4   5   5   6\\n2       GP   F   15       U     LE3       T     1     1   at_home     other       other   mother           1          2         3       yes     no  yes         no     yes    yes      yes       no       4         3      2     2     3       3        10   7   8  10\\n3       GP   F   15       U     GT3       T     4     2    health  services        home   mother           1          3         0        no    yes  yes        yes     yes    yes      yes      yes       3         2      2     1     1       5         2  15  14  15\\n4       GP   F   16       U     GT3       T     3     3     other     other        home   father           1          2         0        no    yes  yes         no     yes    yes       no       no       4         3      2     1     2       5         4   6  10  10\\n5       GP   M   16       U     LE3       T     4     3  services     other  reputation   mother           1          2         0        no    yes  yes        yes     yes    yes      yes       no       5         4      2     1     2       5        10  15  15  15\\n6       GP   M   16       U     LE3       T     2     2     other     other        home   mother           1          2         0        no     no   no         no     yes    yes      yes       no       4         4      4     1     1       3         0  12  12  11\\n7       GP   F   17       U     GT3       A     4     4     other   teacher        home   mother           2          2         0       yes    yes   no         no     yes    yes       no       no       4         1      4     1     1       1         6   6   5   6\\n8       GP   M   15       U     LE3       A     3     2  services     other        home   mother           1          2         0        no    yes  yes         no     yes    yes      yes       no       4         2      2     1     1       1         0  16  18  19\\n9       GP   M   15       U     GT3       T     3     4     other     other        home   mother           1          2         0        no    yes  yes        yes     yes    yes      yes       no       5         5      1     1     1       5         0  14  15  15\\n10      GP   F   15       U     GT3       T     4     4   teacher    health  reputation   mother           1          2         0        no    yes  yes         no     yes    yes      yes       no       3         3      3     1     2       2         0  10   8   9\\n11      GP   F   15       U     GT3       T     2     1  services     other  reputation   father           3          3         0        no    yes   no        yes     yes    yes      yes       no       5         2      2     1     1       4         4  10  12  12\\n12      GP   M   15       U     LE3       T     4     4    health  services      course   father           1          1         0        no    yes  yes        yes     yes    yes      yes       no       4         3      3     1     3       5         2  14  14  14\\n13      GP   M   15       U     GT3       T     4     3   teacher     other      course   mother           2          2         0        no    yes  yes         no     yes    yes      yes       no       5         4      3     1     2       3         2  10  10  11\\n14      GP   M   15       U     GT3       A     2     2     other     other        home    other           1          3         0        no    yes   no         no     yes    yes      yes      yes       4         5      2     1     1       3         0  14  16  16\\n15      GP   F   16       U     GT3       T     4     4    health     other        home   mother           1          1         0        no    yes   no         no     yes    yes      yes       no       4         4      4     1     2       2         4  14  14  14\\n16      GP   F   16       U     GT3       T     4     4  services  services  reputation   mother           1          3         0        no    yes  yes        yes     yes    yes      yes       no       3         2      3     1     2       2         6  13  14  14\\n17      GP   F   16       U     GT3       T     3     3     other     other  reputation   mother           3          2         0       yes    yes   no        yes     yes    yes       no       no       5         3      2     1     1       4         4   8  10  10\\n18      GP   M   17       U     GT3       T     3     2  services  services      course   mother           1          1         3        no    yes   no        yes     yes    yes      yes       no       5         5      5     2     4       5        16   6   5   5\\n19      GP   M   16       U     LE3       T     4     3    health     other        home   father           1          1         0        no     no  yes        yes     yes    yes      yes       no       3         1      3     1     3       5         4   8  10  10\\n20      GP   M   15       U     GT3       T     4     3   teacher     other  reputation   mother           1          2         0        no     no   no         no     yes    yes      yes       no       4         4      1     1     1       1         0  13  14  15\\n21      GP   M   15       U     GT3       T     4     4    health    health       other   father           1          1         0        no    yes  yes         no     yes    yes      yes       no       5         4      2     1     1       5         0  12  15  15\\n22      GP   M   16       U     LE3       T     4     2   teacher     other      course   mother           1          2         0        no     no   no        yes     yes    yes      yes       no       4         5      1     1     3       5         2  15  15  16\\n23      GP   M   16       U     LE3       T     2     2     other     other  reputation   mother           2          2         0        no    yes   no        yes     yes    yes      yes       no       5         4      4     2     4       5         0  13  13  12\\n24      GP   F   15       R     GT3       T     2     4  services    health      course   mother           1          3         0       yes    yes  yes        yes     yes    yes      yes       no       4         3      2     1     1       5         2  10   9   8\\n25      GP   F   16       U     GT3       T     2     2  services  services        home   mother           1          1         2        no    yes  yes         no      no    yes      yes       no       1         2      2     1     3       5        14   6   9   8\\n26      GP   M   15       U     GT3       T     2     2     other     other        home   mother           1          1         0        no    yes  yes         no     yes    yes      yes       no       4         2      2     1     2       5         2  12  12  11\\n27      GP   M   15       U     GT3       T     4     2    health  services       other   mother           1          1         0        no     no  yes         no     yes    yes      yes       no       2         2      4     2     4       1         4  15  16  15\\n28      GP   M   16       U     LE3       A     3     4  services     other        home   mother           1          2         0       yes    yes   no        yes     yes    yes      yes       no       5         3      3     1     1       5         4  11  11  11\\n29      GP   M   16       U     GT3       T     4     4   teacher   teacher        home   mother           1          2         0        no    yes  yes        yes     yes    yes      yes      yes       4         4      5     5     5       5        16  10  12  11\\n30      GP   M   15       U     GT3       T     4     4    health  services        home   mother           1          2         0        no    yes  yes         no      no    yes      yes       no       5         4      2     3     4       5         0   9  11  12\\n31      GP   M   15       U     GT3       T     4     4  services  services  reputation   mother           2          2         0        no    yes   no        yes     yes    yes      yes       no       4         3      1     1     1       5         0  17  16  17\\n32      GP   M   15       R     GT3       T     4     3   teacher   at_home      course   mother           1          2         0        no    yes   no        yes     yes    yes      yes      yes       4         5      2     1     1       5         0  17  16  16\\n33      GP   M   15       U     LE3       T     3     3     other     other      course   mother           1          2         0        no     no   no        yes      no    yes      yes       no       5         3      2     1     1       2         0   8  10  12\\n34      GP   M   16       U     GT3       T     3     2     other     other        home   mother           1          1         0        no    yes  yes         no      no    yes      yes       no       5         4      3     1     1       5         0  12  14  15\\n35      GP   F   15       U     GT3       T     2     3     other     other       other   father           2          1         0        no    yes   no        yes     yes    yes       no       no       3         5      1     1     1       5         0   8   7   6\\n36      GP   M   15       U     LE3       T     4     3   teacher  services        home   mother           1          3         0        no    yes   no        yes     yes    yes      yes       no       5         4      3     1     1       4         2  15  16  18\\n37      GP   M   16       R     GT3       A     4     4     other   teacher  reputation   mother           2          3         0        no    yes   no        yes     yes    yes      yes      yes       2         4      3     1     1       5         7  15  16  15\\n38      GP   F   15       R     GT3       T     3     4  services    health      course   mother           1          3         0       yes    yes  yes        yes     yes    yes      yes       no       4         3      2     1     1       5         2  12  12  11\\n39      GP   F   15       R     GT3       T     2     2   at_home     other  reputation   mother           1          1         0       yes    yes  yes        yes     yes    yes       no       no       4         3      1     1     1       2         8  14  13  13\\n40      GP   F   16       U     LE3       T     2     2     other     other        home   mother           2          2         1        no    yes   no        yes      no    yes      yes      yes       3         3      3     1     2       3        25   7  10  11\\n41      GP   M   15       U     LE3       T     4     4   teacher     other        home    other           1          1         0        no    yes   no         no      no    yes      yes      yes       5         4      3     2     4       5         8  12  12  12\\n42      GP   M   15       U     GT3       T     4     4  services   teacher      course   father           1          2         0        no    yes   no        yes     yes    yes      yes       no       4         3      3     1     1       5         2  19  18  18\\n43      GP   M   15       U     GT3       T     2     2  services  services      course   father           1          1         0       yes    yes   no         no     yes    yes      yes       no       5         4      1     1     1       1         0   8   8  11\\n44      GP   F   16       U     LE3       T     2     2     other   at_home      course   father           2          2         1       yes     no   no        yes     yes    yes      yes       no       4         3      3     2     2       5        14  10  10   9\\n45      GP   F   15       U     LE3       A     4     3     other     other      course   mother           1          2         0       yes    yes  yes        yes     yes    yes      yes      yes       5         2      2     1     1       5         8   8   8   6\\n46      GP   F   16       U     LE3       A     3     3     other  services        home   mother           1          2         0        no    yes   no         no     yes    yes      yes       no       2         3      5     1     4       3        12  11  12  11\\n47      GP   M   16       U     GT3       T     4     3    health  services  reputation   mother           1          4         0        no     no   no        yes     yes    yes      yes       no       4         2      2     1     1       2         4  19  19  20\\n48      GP   M   15       U     GT3       T     4     2   teacher     other        home   mother           1          2         0        no    yes  yes         no     yes    yes       no       no       4         3      3     2     2       5         2  15  15  14\\n49      GP   F   15       U     GT3       T     4     4  services   teacher       other   father           1          2         1       yes    yes   no        yes      no    yes      yes       no       4         4      4     1     1       3         2   7   7   7\\n50      GP   F   16       U     LE3       T     2     2  services  services      course   mother           3          2         0        no    yes  yes         no     yes    yes      yes       no       4         3      3     2     3       4         2  12  13  13\\n51      GP   F   15       U     LE3       T     4     2    health     other       other   mother           1          2         0        no    yes  yes         no     yes    yes      yes       no       4         3      3     1     1       5         2  11  13  13\\n52      GP   M   15       U     LE3       A     4     2    health    health       other   father           2          1         1        no     no   no         no     yes    yes       no       no       5         5      5     3     4       5         6  11  11  10\\n53      GP   F   15       U     GT3       T     4     4  services  services      course   mother           1          1         0       yes    yes  yes         no     yes    yes      yes       no       3         3      4     2     3       5         0   8  10  11\\n54      GP   F   15       U     LE3       A     3     3     other     other       other   mother           1          1         0        no     no  yes         no     yes    yes      yes       no       5         3      4     4     4       1         6  10  13  13\\n55      GP   F   16       U     GT3       A     2     1     other     other       other   mother           1          2         0        no     no  yes        yes     yes    yes      yes      yes       5         3      4     1     1       2         8   8   9  10\\n56      GP   F   15       U     GT3       A     4     3  services  services  reputation   mother           1          2         0        no    yes  yes        yes     yes    yes      yes       no       4         3      2     1     1       1         0  14  15  15\\n57      GP   M   15       U     GT3       T     4     4   teacher    health  reputation   mother           1          2         0        no    yes   no        yes     yes    yes       no       no       3         2      2     1     1       5         4  14  15  15\\n58      GP   M   15       U     LE3       T     1     2     other   at_home        home   father           1          2         0       yes    yes   no        yes     yes    yes      yes       no       4         3      2     1     1       5         2   9  10   9\\n59      GP   F   16       U     GT3       T     4     2  services     other      course   mother           1          2         0        no    yes   no         no     yes    yes      yes       no       4         2      3     1     1       5         2  15  16  16\\n60      GP   F   16       R     GT3       T     4     4    health   teacher       other   mother           1          2         0        no    yes   no        yes     yes    yes       no       no       2         4      4     2     3       4         6  10  11  11\\n61      GP   F   16       U     GT3       T     1     1  services  services      course   father           4          1         0       yes    yes   no        yes      no    yes      yes      yes       5         5      5     5     5       5         6  10   8  11\\n62      GP   F   16       U     LE3       T     1     2     other  services  reputation   father           1          2         0       yes     no   no        yes     yes    yes      yes       no       4         4      3     1     1       1         4   8  10   9\\n63      GP   F   16       U     GT3       T     4     3   teacher    health        home   mother           1          3         0       yes    yes  yes        yes     yes    yes      yes       no       3         4      4     2     4       4         2  10   9   9\\n64      GP   F   15       U     LE3       T     4     3  services  services  reputation   father           1          2         0       yes     no   no        yes     yes    yes      yes      yes       4         4      4     2     4       2         0  10  10  10\\n65      GP   F   16       U     LE3       T     4     3   teacher  services      course   mother           3          2         0        no    yes   no        yes     yes    yes      yes       no       5         4      3     1     2       1         2  16  15  15\\n66      GP   M   15       U     GT3       A     4     4     other  services  reputation   mother           1          4         0        no    yes   no        yes      no    yes      yes      yes       1         3      3     5     5       3         4  13  13  12\\n67      GP   F   16       U     GT3       T     3     1  services     other      course   mother           1          4         0       yes    yes  yes         no     yes    yes      yes       no       4         3      3     1     2       5         4   7   7   6\\n68      GP   F   15       R     LE3       T     2     2    health  services  reputation   mother           2          2         0       yes    yes  yes         no     yes    yes      yes       no       4         1      3     1     3       4         2   8   9   8\\n69      GP   F   15       R     LE3       T     3     1     other     other  reputation   father           2          4         0        no    yes   no         no      no    yes      yes       no       4         4      2     2     3       3        12  16  16  16\\n70      GP   M   16       U     GT3       T     3     1     other     other  reputation   father           2          4         0        no    yes  yes         no     yes    yes      yes       no       4         3      2     1     1       5         0  13  15  15\\n71      GP   M   15       U     GT3       T     4     2     other     other      course   mother           1          4         0        no     no   no         no     yes    yes      yes       no       3         3      3     1     1       3         0  10  10  10\\n72      GP   F   15       R     GT3       T     1     1     other     other  reputation   mother           1          2         2       yes    yes   no         no      no    yes      yes      yes       3         3      4     2     4       5         2   8   6   5\\n73      GP   M   16       U     GT3       T     3     1     other     other  reputation   mother           1          1         0        no     no   no        yes     yes    yes       no       no       5         3      2     2     2       5         2  12  12  14\\n74      GP   F   16       U     GT3       T     3     3     other  services        home   mother           1          2         0       yes    yes  yes        yes     yes    yes      yes       no       4         3      3     2     4       5        54  11  12  11\\n75      GP   M   15       U     GT3       T     4     3   teacher     other        home   mother           1          2         0        no    yes  yes        yes     yes    yes      yes       no       4         3      3     2     3       5         6   9   9  10\\n76      GP   M   15       U     GT3       T     4     0   teacher     other      course   mother           2          4         0        no     no   no        yes     yes    yes      yes       no       3         4      3     1     1       1         8  11  11  10\\n77      GP   F   16       U     GT3       T     2     2     other     other  reputation   mother           1          4         0        no     no  yes         no     yes    yes      yes      yes       5         2      3     1     3       3         0  11  11  11\\n78      GP   M   17       U     GT3       T     2     1     other     other        home   mother           2          1         3       yes    yes   no        yes     yes     no      yes       no       4         5      1     1     1       3         2   8   8  10\\n79      GP   F   16       U     GT3       T     3     4   at_home     other      course   mother           1          2         0        no    yes   no         no     yes    yes      yes       no       2         4      3     1     2       3        12   5   5   5\\n80      GP   M   15       U     GT3       T     2     3     other  services      course   father           1          1         0       yes    yes  yes        yes      no    yes      yes      yes       3         2      2     1     3       3         2  10  12  12\\n81      GP   M   15       U     GT3       T     2     3     other     other        home   mother           1          3         0       yes     no  yes         no      no    yes      yes       no       5         3      2     1     2       5         4  11  10  11\\n82      GP   F   15       U     LE3       T     3     2  services     other  reputation   mother           1          2         0        no    yes  yes         no     yes    yes      yes       no       4         4      4     1     1       5        10   7   6   6\\n83      GP   M   15       U     LE3       T     2     2  services  services        home   mother           2          2         0        no     no  yes        yes     yes    yes      yes       no       5         3      3     1     3       4         4  15  15  15\\n84      GP   F   15       U     GT3       T     1     1     other     other        home   father           1          2         0        no    yes   no        yes      no    yes      yes       no       4         3      2     2     3       4         2   9  10  10\\n85      GP   F   15       U     GT3       T     4     4  services  services  reputation   father           2          2         2        no     no  yes         no     yes    yes      yes      yes       4         4      4     2     3       5         6   7   9   8\\n86      GP   F   16       U     LE3       T     2     2   at_home     other      course   mother           1          2         0        no    yes   no         no     yes    yes       no       no       4         3      4     1     2       2         4   8   7   6\\n87      GP   F   15       U     GT3       T     4     2     other     other  reputation   mother           1          3         0        no    yes   no        yes     yes    yes      yes       no       5         3      3     1     3       1         4  13  14  14\\n88      GP   M   16       U     GT3       T     2     2  services     other  reputation   father           2          2         1        no     no  yes        yes      no    yes      yes       no       4         4      2     1     1       3        12  11  10  10\\n89      GP   M   16       U     LE3       A     4     4   teacher    health  reputation   mother           1          2         0        no    yes   no         no     yes    yes       no       no       4         1      3     3     5       5        18   8   6   7\\n90      GP   F   16       U     GT3       T     3     3     other     other        home   mother           1          3         0        no    yes  yes         no     yes    yes      yes      yes       4         3      3     1     3       4         0   7   7   8\\n91      GP   F   15       U     GT3       T     4     3  services     other  reputation   mother           1          1         0        no     no  yes        yes     yes    yes      yes       no       4         5      5     1     3       1         4  16  17  18\\n92      GP   F   16       U     LE3       T     3     1     other     other        home   father           1          2         0       yes    yes   no         no     yes    yes       no       no       3         3      3     2     3       2         4   7   6   6\\n93      GP   F   16       U     GT3       T     4     2   teacher  services        home   mother           2          2         0        no    yes  yes        yes     yes    yes      yes       no       5         3      3     1     1       1         0  11  10  10\\n94      GP   M   15       U     LE3       T     2     2  services    health  reputation   mother           1          4         0        no    yes   no        yes     yes    yes      yes       no       4         3      4     1     1       4         6  11  13  14\\n95      GP   F   15       R     GT3       T     1     1   at_home     other        home   mother           2          4         1       yes    yes  yes        yes     yes    yes      yes       no       3         1      2     1     1       1         2   7  10  10\\n96      GP   M   16       R     GT3       T     4     3  services     other  reputation   mother           2          1         0       yes    yes   no        yes      no    yes      yes       no       3         3      3     1     1       4         2  11  15  15\\n97      GP   F   16       U     GT3       T     2     1     other     other      course   mother           1          2         0        no    yes  yes         no     yes    yes       no      yes       4         3      5     1     1       5         2   8   9  10\\n98      GP   F   16       U     GT3       T     4     4     other     other  reputation   mother           1          1         0        no     no   no        yes      no    yes      yes       no       5         3      4     1     2       1         6  11  14  14\\n99      GP   F   16       U     GT3       T     4     3     other   at_home      course   mother           1          3         0       yes    yes  yes         no     yes    yes      yes       no       5         3      5     1     1       3         0   7   9   8\\n100     GP   M   16       U     GT3       T     4     4  services  services       other   mother           1          1         0       yes    yes  yes        yes     yes    yes      yes       no       4         5      5     5     5       4        14   7   7   5\\n101     GP   M   16       U     GT3       T     4     4  services   teacher       other   father           1          3         0        no    yes   no        yes     yes    yes      yes      yes       4         4      3     1     1       4         0  16  17  17\\n102     GP   M   15       U     GT3       T     4     4  services     other      course   mother           1          1         0        no    yes   no        yes      no    yes      yes       no       5         3      3     1     1       5         4  10  13  14\\n103     GP   F   15       U     GT3       T     3     2  services     other        home   mother           2          2         0       yes    yes  yes         no     yes    yes      yes       no       4         3      5     1     1       2        26   7   6   6\\n104     GP   M   15       U     GT3       A     3     4  services     other      course   mother           1          2         0        no    yes  yes        yes     yes    yes      yes       no       5         4      4     1     1       1         0  16  18  18\\n105     GP   F   15       U     GT3       A     3     3     other    health  reputation   father           1          4         0       yes     no   no         no     yes    yes       no       no       4         3      3     1     1       4        10  10  11  11\\n106     GP   F   15       U     GT3       T     2     2     other     other      course   mother           1          4         0       yes    yes  yes         no     yes    yes      yes       no       5         1      2     1     1       3         8   7   8   8\\n107     GP   M   16       U     GT3       T     3     3  services     other        home   father           1          3         0        no    yes   no        yes     yes    yes      yes       no       5         3      3     1     1       5         2  16  18  18\\n108     GP   M   15       R     GT3       T     4     4     other     other        home   father           4          4         0        no    yes  yes        yes     yes    yes      yes      yes       1         3      5     3     5       1         6  10  13  13\\n109     GP   F   16       U     LE3       T     4     4    health    health       other   mother           1          3         0        no    yes  yes        yes     yes    yes      yes      yes       5         4      5     1     1       4         4  14  15  16\\n110     GP   M   15       U     LE3       A     4     4   teacher   teacher      course   mother           1          1         0        no     no   no        yes     yes    yes      yes       no       5         5      3     1     1       4         6  18  19  19\\n111     GP   F   16       R     GT3       T     3     3  services     other  reputation   father           1          3         1       yes    yes   no        yes     yes    yes      yes       no       4         1      2     1     1       2         0   7  10  10\\n112     GP   F   16       U     GT3       T     2     2   at_home     other        home   mother           1          2         1       yes     no   no        yes     yes    yes      yes       no       3         1      2     1     1       5         6  10  13  13\\n113     GP   M   15       U     LE3       T     4     2   teacher     other      course   mother           1          1         0        no     no   no         no     yes    yes      yes       no       3         5      2     1     1       3        10  18  19  19\\n114     GP   M   15       R     GT3       T     2     1    health  services  reputation   mother           1          2         0        no     no   no        yes     yes    yes      yes      yes       5         4      2     1     1       5         8   9   9   9\\n115     GP   M   16       U     GT3       T     4     4   teacher   teacher      course   father           1          2         0        no    yes   no        yes     yes    yes      yes       no       5         4      4     1     2       5         2  15  15  16\\n116     GP   M   15       U     GT3       T     4     4     other   teacher  reputation   father           2          2         0        no    yes   no        yes     yes    yes       no       no       4         4      3     1     1       2         2  11  13  14\\n117     GP   M   16       U     GT3       T     3     3     other  services        home   father           2          1         0        no     no   no        yes     yes    yes      yes       no       5         4      2     1     1       5         0  13  14  13\\n118     GP   M   17       R     GT3       T     1     3     other     other      course   father           3          2         1        no    yes   no        yes     yes    yes      yes       no       5         2      4     1     4       5        20   9   7   8\\n119     GP   M   15       U     GT3       T     3     4     other     other  reputation   father           1          1         0        no     no   no         no     yes    yes      yes       no       3         4      3     1     2       4         6  14  13  13\\n120     GP   F   15       U     GT3       T     1     2   at_home  services      course   mother           1          2         0        no     no   no         no      no    yes      yes       no       3         2      3     1     2       1         2  16  15  15\\n121     GP   M   15       U     GT3       T     2     2  services  services        home   father           1          4         0        no    yes  yes        yes     yes    yes      yes       no       5         5      4     1     2       5         6  16  14  15\\n122     GP   F   16       U     LE3       T     2     4     other    health      course   father           2          2         0        no    yes  yes        yes     yes    yes      yes      yes       4         2      2     1     2       5         2  13  13  13\\n123     GP   M   16       U     GT3       T     4     4    health     other      course   mother           1          1         0        no    yes   no        yes     yes    yes      yes       no       3         4      4     1     4       5        18  14  11  13\\n124     GP   F   16       U     GT3       T     2     2     other     other        home   mother           1          2         0        no     no  yes         no     yes    yes      yes      yes       5         4      4     1     1       5         0   8   7   8\\n125     GP   M   15       U     GT3       T     3     4  services  services        home   father           1          1         0       yes     no   no         no     yes    yes      yes       no       5         5      5     3     2       5         0  13  13  12\\n126     GP   F   15       U     LE3       A     3     4     other     other        home   mother           1          2         0       yes     no   no        yes     yes    yes      yes      yes       5         3      2     1     1       1         0   7  10  11\\n127     GP   F   19       U     GT3       T     0     1   at_home     other      course    other           1          2         3        no    yes   no         no      no     no       no       no       3         4      2     1     1       5         2   7   8   9\\n128     GP   M   18       R     GT3       T     2     2  services     other  reputation   mother           1          1         2        no    yes   no        yes     yes    yes      yes       no       3         3      3     1     2       4         0   7   4   0\\n129     GP   M   16       R     GT3       T     4     4   teacher   teacher      course   mother           1          1         0        no     no  yes        yes     yes    yes      yes       no       3         5      5     2     5       4         8  18  18  18\\n130     GP   F   15       R     GT3       T     3     4  services   teacher      course   father           2          3         2        no    yes   no         no     yes    yes      yes      yes       4         2      2     2     2       5         0  12   0   0\\n131     GP   F   15       U     GT3       T     1     1   at_home     other      course   mother           3          1         0        no    yes   no        yes      no    yes      yes      yes       4         3      3     1     2       4         0   8   0   0\\n132     GP   F   17       U     LE3       T     2     2     other     other      course   father           1          1         0        no    yes   no         no     yes    yes      yes      yes       3         4      4     1     3       5        12  10  13  12\\n133     GP   F   16       U     GT3       A     3     4  services     other      course   father           1          1         0        no     no   no         no     yes    yes      yes       no       3         2      1     1     4       5        16  12  11  11\\n134     GP   M   15       R     GT3       T     3     4   at_home   teacher      course   mother           4          2         0        no    yes   no         no     yes    yes       no      yes       5         3      3     1     1       5         0   9   0   0\\n135     GP   F   15       U     GT3       T     4     4  services   at_home      course   mother           1          3         0        no    yes   no        yes     yes    yes      yes      yes       4         3      3     1     1       5         0  11   0   0\\n136     GP   M   17       R     GT3       T     3     4   at_home     other      course   mother           3          2         0        no     no   no         no     yes    yes       no       no       5         4      5     2     4       5         0  10   0   0\\n137     GP   F   16       U     GT3       A     3     3     other     other      course    other           2          1         2        no    yes   no        yes      no    yes      yes      yes       4         3      2     1     1       5         0   4   0   0\\n138     GP   M   16       U     LE3       T     1     1  services     other      course   mother           1          2         1        no     no   no         no     yes    yes       no      yes       4         4      4     1     3       5         0  14  12  12\\n139     GP   F   15       U     GT3       T     4     4   teacher   teacher      course   mother           2          1         0        no     no   no        yes     yes    yes      yes       no       4         3      2     1     1       5         0  16  16  15\\n140     GP   M   15       U     GT3       T     4     3   teacher  services      course   father           2          4         0       yes    yes   no         no     yes    yes      yes       no       2         2      2     1     1       3         0   7   9   0\\n141     GP   M   16       U     LE3       T     2     2  services  services  reputation   father           2          1         2        no    yes   no        yes     yes    yes      yes       no       2         3      3     2     2       2         8   9   9   9\\n142     GP   F   15       U     GT3       T     4     4   teacher  services      course   mother           1          3         0        no    yes  yes        yes     yes    yes      yes       no       4         2      2     1     1       5         2   9  11  11\\n143     GP   F   16       U     LE3       T     1     1   at_home   at_home      course   mother           1          1         0        no     no   no         no     yes    yes      yes       no       3         4      4     3     3       1         2  14  14  13\\n144     GP   M   17       U     GT3       T     2     1     other     other        home   mother           1          1         3        no    yes   no         no     yes    yes      yes       no       5         4      5     1     2       5         0   5   0   0\\n145     GP   F   15       U     GT3       T     1     1     other  services      course   father           1          2         0        no    yes  yes         no     yes    yes      yes       no       4         4      2     1     2       5         0   8  11  11\\n146     GP   F   15       U     GT3       T     3     2    health  services        home   father           1          2         3        no    yes   no         no     yes    yes      yes       no       3         3      2     1     1       3         0   6   7   0\\n147     GP   F   15       U     GT3       T     1     2   at_home     other      course   mother           1          2         0        no    yes  yes         no      no    yes      yes       no       4         3      2     1     1       5         2  10  11  11\\n148     GP   M   16       U     GT3       T     4     4   teacher   teacher      course   mother           1          1         0        no    yes   no         no     yes     no      yes      yes       3         3      2     2     1       5         0   7   6   0\\n149     GP   M   15       U     LE3       A     2     1  services     other      course   mother           4          1         3        no     no   no         no     yes    yes      yes       no       4         5      5     2     5       5         0   8   9  10\\n150     GP   M   18       U     LE3       T     1     1     other     other      course   mother           1          1         3        no     no   no         no     yes     no      yes      yes       2         3      5     2     5       4         0   6   5   0\\n151     GP   M   16       U     LE3       T     2     1   at_home     other      course   mother           1          1         1        no     no   no        yes     yes    yes       no      yes       4         4      4     3     5       5         6  12  13  14\\n152     GP   F   15       R     GT3       T     3     3  services  services  reputation    other           2          3         2        no    yes  yes        yes     yes    yes      yes      yes       4         2      1     2     3       3         8  10  10  10\\n153     GP   M   19       U     GT3       T     3     2  services   at_home        home   mother           1          1         3        no    yes   no         no     yes     no      yes      yes       4         5      4     1     1       4         0   5   0   0\\n154     GP   F   17       U     GT3       T     4     4     other   teacher      course   mother           1          1         0       yes    yes   no         no     yes    yes       no      yes       4         2      1     1     1       4         0  11  11  12\\n155     GP   M   15       R     GT3       T     2     3   at_home  services      course   mother           1          2         0       yes     no  yes        yes     yes    yes       no       no       4         4      4     1     1       1         2  11   8   8\\n156     GP   M   17       R     LE3       T     1     2     other     other  reputation   mother           1          1         0        no     no   no         no     yes    yes       no       no       2         2      2     3     3       5         8  16  12  13\\n157     GP   F   18       R     GT3       T     1     1   at_home     other      course   mother           3          1         3        no    yes   no        yes      no    yes       no       no       5         2      5     1     5       4         6   9   8  10\\n158     GP   M   16       R     GT3       T     2     2   at_home     other      course   mother           3          1         0        no     no   no         no      no    yes       no       no       4         2      2     1     2       3         2  17  15  15\\n159     GP   M   16       U     GT3       T     3     3     other  services      course   father           1          2         1        no    yes  yes         no     yes    yes      yes      yes       4         5      5     4     4       5         4  10  12  12\\n160     GP   M   17       R     LE3       T     2     1   at_home     other      course   mother           2          1         2        no     no   no        yes     yes     no      yes      yes       3         3      2     2     2       5         0   7   6   0\\n161     GP   M   15       R     GT3       T     3     2     other     other      course   mother           2          2         2       yes    yes   no         no     yes    yes      yes      yes       4         4      4     1     4       3         6   5   9   7\\n162     GP   M   16       U     LE3       T     1     2     other     other      course   mother           2          1         1        no     no   no        yes     yes    yes       no       no       4         4      4     2     4       5         0   7   0   0\\n163     GP   M   17       U     GT3       T     1     3   at_home  services      course   father           1          1         0        no     no   no         no     yes     no      yes       no       5         3      3     1     4       2         2  10  10  10\\n164     GP   M   17       R     LE3       T     1     1     other  services      course   mother           4          2         3        no     no   no        yes     yes     no       no      yes       5         3      5     1     5       5         0   5   8   7\\n165     GP   M   16       U     GT3       T     3     2  services  services      course   mother           2          1         1        no    yes   no        yes      no     no       no       no       4         5      2     1     1       2        16  12  11  12\\n166     GP   M   16       U     GT3       T     2     2     other     other      course   father           1          2         0        no     no   no         no     yes     no      yes       no       4         3      5     2     4       4         4  10  10  10\\n167     GP   F   16       U     GT3       T     4     2    health  services        home   father           1          2         0        no     no  yes         no     yes    yes      yes      yes       4         2      3     1     1       3         0  14  15  16\\n168     GP   F   16       U     GT3       T     2     2     other     other        home   mother           1          2         0        no    yes  yes         no      no    yes      yes       no       5         1      5     1     1       4         0   6   7   0\\n169     GP   F   16       U     GT3       T     4     4    health    health  reputation   mother           1          2         0        no    yes  yes         no     yes    yes      yes      yes       4         4      2     1     1       3         0  14  14  14\\n170     GP   M   16       U     GT3       T     3     4     other     other      course   father           3          1         2        no    yes   no        yes      no    yes      yes       no       3         4      5     2     4       2         0   6   5   0\\n171     GP   M   16       U     GT3       T     1     0     other     other  reputation   mother           2          2         0        no    yes  yes        yes     yes    yes      yes      yes       4         3      2     1     1       3         2  13  15  16\\n172     GP   M   17       U     LE3       T     4     4   teacher     other  reputation   mother           1          2         0        no    yes  yes        yes     yes    yes      yes       no       4         4      4     1     3       5         0  13  11  10\\n173     GP   F   16       U     GT3       T     1     3   at_home  services        home   mother           1          2         3        no     no   no        yes      no    yes      yes      yes       4         3      5     1     1       3         0   8   7   0\\n174     GP   F   16       U     LE3       T     3     3     other     other  reputation   mother           2          2         0        no    yes  yes        yes     yes    yes      yes       no       4         4      5     1     1       4         4  10  11   9\\n175     GP   M   17       U     LE3       T     4     3   teacher     other      course   mother           2          2         0        no     no  yes        yes     yes    yes      yes       no       4         4      4     4     4       4         4  10   9   9\\n176     GP   F   16       U     GT3       T     2     2  services     other  reputation   mother           2          2         0        no     no  yes        yes      no    yes      yes       no       3         4      4     1     4       5         2  13  13  11\\n177     GP   M   17       U     GT3       T     3     3     other     other  reputation   father           1          2         0        no     no   no        yes      no    yes      yes       no       4         3      4     1     4       4         4   6   5   6\\n178     GP   M   16       R     GT3       T     4     2   teacher  services       other   mother           1          1         0        no    yes   no        yes     yes    yes      yes      yes       4         3      3     3     4       3        10  10   8   9\\n179     GP   M   17       U     GT3       T     4     3     other     other      course   mother           1          2         0        no    yes   no        yes     yes    yes      yes      yes       5         2      3     1     1       2         4  10  10  11\\n180     GP   M   16       U     GT3       T     4     3   teacher     other        home   mother           1          2         0        no    yes  yes        yes     yes    yes      yes       no       3         4      3     2     3       3        10   9   8   8\\n181     GP   M   16       U     GT3       T     3     3  services     other        home   mother           1          2         0        no     no  yes        yes     yes    yes      yes      yes       4         2      3     1     2       3         2  12  13  12\\n182     GP   F   17       U     GT3       T     2     4  services  services  reputation   father           1          2         0        no    yes   no        yes     yes    yes       no       no       5         4      2     2     3       5         0  16  17  17\\n183     GP   F   17       U     LE3       T     3     3     other     other  reputation   mother           1          2         0        no    yes   no        yes     yes    yes      yes      yes       5         3      3     2     3       1        56   9   9   8\\n184     GP   F   16       U     GT3       T     3     2     other     other  reputation   mother           1          2         0        no    yes  yes         no     yes    yes      yes       no       1         2      2     1     2       1        14  12  13  12\\n185     GP   M   17       U     GT3       T     3     3  services  services       other   mother           1          2         0        no    yes   no        yes     yes    yes      yes      yes       4         3      4     2     3       4        12  12  12  11\\n186     GP   M   16       U     GT3       T     1     2  services  services       other   mother           1          1         0        no    yes  yes        yes     yes    yes      yes      yes       3         3      3     1     2       3         2  11  12  11\\n187     GP   M   16       U     LE3       T     2     1     other     other      course   mother           1          2         0        no     no  yes        yes     yes    yes      yes      yes       4         2      3     1     2       5         0  15  15  15\\n188     GP   F   17       U     GT3       A     3     3    health     other  reputation   mother           1          2         0        no    yes   no         no      no    yes      yes      yes       3         3      3     1     3       3         6   8   7   9\\n189     GP   M   17       R     GT3       T     1     2   at_home     other        home   mother           1          2         0        no     no   no         no     yes    yes       no       no       3         1      3     1     5       3         4   8   9  10\\n190     GP   F   16       U     GT3       T     2     3  services  services      course   mother           1          2         0        no     no   no         no     yes    yes      yes       no       4         3      3     1     1       2        10  11  12  13\\n191     GP   F   17       U     GT3       T     1     1   at_home  services      course   mother           1          2         0        no     no   no        yes     yes    yes      yes       no       5         3      3     1     1       3         0   8   8   9\\n192     GP   M   17       U     GT3       T     1     2   at_home  services       other    other           2          2         0        no     no  yes        yes      no    yes      yes       no       4         4      4     4     5       5        12   7   8   8\\n193     GP   M   16       R     GT3       T     3     3  services  services  reputation   mother           1          1         0        no    yes   no        yes     yes    yes      yes       no       4         3      2     3     4       5         8   8   9  10\\n194     GP   M   16       U     GT3       T     2     3     other     other        home   father           2          1         0        no     no   no         no     yes    yes      yes       no       5         3      3     1     1       3         0  13  14  14\\n195     GP   F   17       U     LE3       T     2     4  services  services      course   father           1          2         0        no     no   no        yes     yes    yes      yes      yes       4         3      2     1     1       5         0  14  15  15\\n196     GP   M   17       U     GT3       T     4     4  services   teacher        home   mother           1          1         0        no     no   no         no     yes    yes      yes       no       5         2      3     1     2       5         4  17  15  16\\n197     GP   M   16       R     LE3       T     3     3   teacher     other        home   father           3          1         0        no    yes  yes        yes     yes    yes      yes       no       3         3      4     3     5       3         8   9   9  10\\n198     GP   F   17       U     GT3       T     4     4  services   teacher        home   mother           2          1         1        no    yes   no         no     yes    yes      yes       no       4         2      4     2     3       2        24  18  18  18\\n199     GP   F   16       U     LE3       T     4     4   teacher   teacher  reputation   mother           1          2         0        no    yes  yes         no     yes    yes      yes       no       4         5      2     1     2       3         0   9   9  10\\n200     GP   F   16       U     GT3       T     4     3    health     other        home   mother           1          2         0        no    yes   no        yes     yes    yes      yes       no       4         3      5     1     5       2         2  16  16  16\\n201     GP   F   16       U     GT3       T     2     3     other     other  reputation   mother           1          2         0       yes    yes  yes        yes     yes    yes       no       no       4         4      3     1     3       4         6   8  10  10\\n202     GP   F   17       U     GT3       T     1     1     other     other      course   mother           1          2         0        no    yes  yes         no      no    yes       no       no       4         4      4     1     3       1         4   9   9  10\\n203     GP   F   17       R     GT3       T     2     2     other     other  reputation   mother           1          1         0        no    yes   no         no     yes    yes      yes       no       5         3      2     1     2       3        18   7   6   6\\n204     GP   F   16       R     GT3       T     2     2  services  services  reputation   mother           2          4         0        no    yes  yes        yes      no    yes      yes       no       5         3      5     1     1       5         6  10  10  11\\n205     GP   F   17       U     GT3       T     3     4   at_home  services        home   mother           1          3         1        no    yes  yes         no     yes    yes      yes      yes       4         4      3     3     4       5        28  10   9   9\\n206     GP   F   16       U     GT3       A     3     1  services     other      course   mother           1          2         3        no    yes  yes         no     yes    yes      yes       no       2         3      3     2     2       4         5   7   7   7\\n207     GP   F   16       U     GT3       T     4     3   teacher     other       other   mother           1          2         0        no     no  yes        yes     yes    yes      yes      yes       1         3      2     1     1       1        10  11  12  13\\n208     GP   F   16       U     GT3       T     1     1   at_home     other        home   mother           2          1         0        no    yes  yes         no     yes    yes       no       no       4         3      2     1     4       5         6   9   9  10\\n209     GP   F   17       R     GT3       T     4     3   teacher     other  reputation   mother           2          3         0        no    yes  yes        yes     yes    yes      yes      yes       4         4      2     1     1       4         6   7   7   7\\n210     GP   F   19       U     GT3       T     3     3     other     other  reputation    other           1          4         0        no    yes  yes        yes     yes    yes      yes       no       4         3      3     1     2       3        10   8   8   8\\n211     GP   M   17       U     LE3       T     4     4  services     other        home   mother           1          2         0        no    yes  yes         no     yes    yes      yes      yes       5         3      5     4     5       3        13  12  12  13\\n212     GP   F   16       U     GT3       A     2     2     other     other  reputation   mother           1          2         0       yes    yes  yes         no     yes    yes      yes       no       3         3      4     1     1       4         0  12  13  14\\n213     GP   M   18       U     GT3       T     2     2  services     other        home   mother           1          2         1        no    yes  yes        yes     yes    yes      yes       no       4         4      4     2     4       5        15   6   7   8\\n214     GP   F   17       R     LE3       T     4     4  services     other       other   mother           1          1         0        no    yes  yes         no     yes    yes       no       no       5         2      1     1     2       3        12   8  10  10\\n215     GP   F   17       U     LE3       T     3     2     other     other  reputation   mother           2          2         0        no     no  yes         no     yes    yes      yes       no       4         4      4     1     3       1         2  14  15  15\\n216     GP   F   17       U     GT3       T     4     3     other     other  reputation   mother           1          2         2        no     no  yes         no     yes    yes      yes      yes       3         4      5     2     4       1        22   6   6   4\\n217     GP   M   18       U     LE3       T     3     3  services    health        home   father           1          2         1        no    yes  yes         no     yes    yes      yes       no       3         2      4     2     4       4        13   6   6   8\\n218     GP   F   17       U     GT3       T     2     3   at_home     other        home   father           2          1         0        no    yes  yes         no     yes    yes       no       no       3         3      3     1     4       3         3   7   7   8\\n219     GP   F   17       U     GT3       T     2     2   at_home   at_home      course   mother           1          3         0        no    yes  yes        yes     yes    yes      yes       no       4         3      3     1     1       4         4   9  10  10\\n220     GP   F   17       R     GT3       T     2     1   at_home  services  reputation   mother           2          2         0        no    yes   no        yes     yes    yes      yes       no       4         2      5     1     2       5         2   6   6   6\\n221     GP   F   17       U     GT3       T     1     1   at_home     other  reputation   mother           1          3         1        no    yes   no        yes     yes    yes       no      yes       4         3      4     1     1       5         0   6   5   0\\n222     GP   F   16       U     GT3       T     2     3  services   teacher       other   mother           1          2         0       yes     no   no         no     yes    yes      yes       no       2         3      1     1     1       3         2  16  16  17\\n223     GP   M   18       U     GT3       T     2     2     other     other        home   mother           2          2         0        no    yes  yes         no     yes    yes      yes       no       3         3      3     5     5       4         0  12  13  13\\n224     GP   F   16       U     GT3       T     4     4   teacher  services        home   mother           1          3         0        no    yes   no        yes      no    yes      yes       no       5         3      2     1     1       5         0  13  13  14\\n225     GP   F   18       R     GT3       T     3     1     other     other  reputation   mother           1          2         1        no     no   no        yes     yes    yes      yes      yes       5         3      3     1     1       4        16   9   8   7\\n226     GP   F   17       U     GT3       T     3     2     other     other      course   mother           1          2         0        no     no   no        yes      no    yes      yes       no       5         3      4     1     3       3        10  16  15  15\\n227     GP   M   17       U     LE3       T     2     3  services  services  reputation   father           1          2         0        no    yes  yes         no      no    yes      yes       no       5         3      3     1     3       3         2  12  11  12\\n228     GP   M   18       U     LE3       T     2     1   at_home     other      course   mother           4          2         0       yes    yes  yes        yes     yes    yes      yes      yes       4         3      2     4     5       3        14  10   8   9\\n229     GP   F   17       U     GT3       A     2     1     other     other      course   mother           2          3         0        no     no   no        yes     yes    yes      yes      yes       3         2      3     1     2       3        10  12  10  12\\n230     GP   F   17       U     LE3       T     4     3    health     other  reputation   father           1          2         0        no     no   no        yes     yes    yes      yes      yes       3         2      3     1     2       3        14  13  13  14\\n231     GP   M   17       R     GT3       T     2     2     other     other      course   father           2          2         0        no    yes  yes        yes     yes    yes      yes       no       4         5      2     1     1       1         4  11  11  11\\n232     GP   M   17       U     GT3       T     4     4   teacher   teacher  reputation   mother           1          2         0       yes    yes   no        yes     yes    yes      yes      yes       4         5      5     1     3       2        14  11   9   9\\n233     GP   M   16       U     GT3       T     4     4    health     other  reputation   father           1          2         0        no    yes  yes        yes     yes    yes      yes       no       4         2      4     2     4       1         2  14  13  13\\n234     GP   M   16       U     LE3       T     1     1     other     other        home   mother           2          2         0        no    yes  yes         no     yes    yes      yes       no       3         4      2     1     1       5        18   9   7   6\\n235     GP   M   16       U     GT3       T     3     2   at_home     other  reputation   mother           2          3         0        no     no   no        yes     yes    yes      yes      yes       5         3      3     1     3       2        10  11   9  10\\n236     GP   M   17       U     LE3       T     2     2     other     other        home   father           1          2         0        no     no  yes        yes      no    yes      yes      yes       4         4      2     5     5       4         4  14  13  13\\n237     GP   F   16       U     GT3       T     2     1     other     other        home   mother           1          1         0        no     no   no         no     yes    yes      yes      yes       4         5      2     1     1       5        20  13  12  12\\n238     GP   F   17       R     GT3       T     2     1   at_home  services      course   mother           3          2         0        no     no   no        yes     yes    yes       no       no       2         1      1     1     1       3         2  13  11  11\\n239     GP   M   18       U     GT3       T     2     2     other  services  reputation   father           1          2         1        no     no   no         no     yes     no      yes       no       5         5      4     3     5       2         0   7   7   0\\n240     GP   M   17       U     LE3       T     4     3    health     other      course   mother           2          2         0        no     no   no        yes     yes    yes      yes      yes       2         5      5     1     4       5        14  12  12  12\\n241     GP   M   17       R     LE3       A     4     4   teacher     other      course   mother           2          2         0        no    yes  yes         no     yes    yes      yes       no       3         3      3     2     3       4         2  10  11  12\\n242     GP   M   16       U     LE3       T     4     3   teacher     other      course   mother           1          1         0        no     no   no        yes      no    yes      yes       no       5         4      5     1     1       3         0   6   0   0\\n243     GP   M   16       U     GT3       T     4     4  services  services      course   mother           1          1         0        no     no   no        yes     yes    yes      yes       no       5         3      2     1     2       5         0  13  12  12\\n244     GP   F   18       U     GT3       T     2     1     other     other      course    other           2          3         0        no    yes  yes         no      no    yes      yes      yes       4         4      4     1     1       3         0   7   0   0\\n245     GP   M   16       U     GT3       T     2     1     other     other      course   mother           3          1         0        no     no   no         no     yes    yes      yes       no       4         3      3     1     1       4         6  18  18  18\\n246     GP   M   17       U     GT3       T     2     3     other     other      course   father           2          1         0        no     no   no         no     yes    yes      yes       no       5         2      2     1     1       2         4  12  12  13\\n247     GP   M   22       U     GT3       T     3     1  services  services       other   mother           1          1         3        no     no   no         no      no     no      yes      yes       5         4      5     5     5       1        16   6   8   8\\n248     GP   M   18       R     LE3       T     3     3     other  services      course   mother           1          2         1        no    yes   no         no     yes    yes      yes      yes       4         3      3     1     3       5         8   3   5   5\\n249     GP   M   16       U     GT3       T     0     2     other     other       other   mother           1          1         0        no     no  yes         no      no    yes      yes       no       4         3      2     2     4       5         0  13  15  15\\n250     GP   M   18       U     GT3       T     3     2  services     other      course   mother           2          1         1        no     no   no         no     yes     no      yes       no       4         4      5     2     4       5         0   6   8   8\\n251     GP   M   16       U     GT3       T     3     3   at_home     other  reputation    other           3          2         0       yes    yes   no         no      no    yes      yes       no       5         3      3     1     3       2         6   7  10  10\\n252     GP   M   18       U     GT3       T     2     1  services  services       other   mother           1          1         1        no     no   no         no      no     no      yes       no       3         2      5     2     5       5         4   6   9   8\\n253     GP   M   16       R     GT3       T     2     1     other     other      course   mother           2          1         0        no     no   no        yes      no    yes       no       no       3         3      2     1     3       3         0   8   9   8\\n254     GP   M   17       R     GT3       T     2     1     other     other      course   mother           1          1         0        no     no   no         no      no    yes      yes       no       4         4      2     2     4       5         0   8  12  12\\n255     GP   M   17       U     LE3       T     1     1    health     other      course   mother           2          1         1        no    yes   no        yes     yes    yes      yes       no       4         4      4     1     2       5         2   7   9   8\\n256     GP   F   17       U     LE3       T     4     2   teacher  services  reputation   mother           1          4         0        no    yes  yes        yes     yes    yes      yes       no       4         2      3     1     1       4         6  14  12  13\\n257     GP   M   19       U     LE3       A     4     3  services   at_home  reputation   mother           1          2         0        no    yes   no         no     yes    yes      yes       no       4         3      1     1     1       1        12  11  11  11\\n258     GP   M   18       U     GT3       T     2     1     other     other        home   mother           1          2         0        no     no   no        yes     yes    yes      yes       no       5         2      4     1     2       4         8  15  14  14\\n259     GP   F   17       U     LE3       T     2     2  services  services      course   father           1          4         0        no     no  yes        yes     yes    yes      yes      yes       3         4      1     1     1       2         0  10   9   0\\n260     GP   F   18       U     GT3       T     4     3  services     other        home   father           1          2         0        no    yes  yes         no     yes    yes      yes      yes       3         1      2     1     3       2        21  17  18  18\\n261     GP   M   18       U     GT3       T     4     3   teacher     other      course   mother           1          2         0        no    yes  yes         no      no    yes      yes       no       4         3      2     1     1       3         2   8   8   8\\n262     GP   M   18       R     GT3       T     3     2     other     other      course   mother           1          3         0        no     no   no        yes      no    yes       no       no       5         3      2     1     1       3         1  13  12  12\\n263     GP   F   17       U     GT3       T     3     3     other     other        home   mother           1          3         0        no     no   no        yes      no    yes       no       no       3         2      3     1     1       4         4  10   9   9\\n264     GP   F   18       U     GT3       T     2     2   at_home  services        home   mother           1          3         0        no    yes  yes        yes     yes    yes      yes      yes       4         3      3     1     1       3         0   9  10   0\\n265     GP   M   18       R     LE3       A     3     4     other     other  reputation   mother           2          2         0        no    yes  yes        yes     yes    yes      yes       no       4         2      5     3     4       1        13  17  17  17\\n266     GP   M   17       U     GT3       T     3     1  services     other       other   mother           1          2         0        no     no  yes        yes     yes    yes      yes      yes       5         4      4     3     4       5         2   9   9  10\\n267     GP   F   18       R     GT3       T     4     4   teacher     other  reputation   mother           2          2         0        no     no  yes        yes     yes    yes      yes       no       4         3      4     2     2       4         8  12  10  11\\n268     GP   M   18       U     GT3       T     4     2    health     other  reputation   father           1          2         0        no    yes  yes        yes     yes    yes      yes      yes       5         4      5     1     3       5        10  10   9  10\\n269     GP   F   18       R     GT3       T     2     1     other     other  reputation   mother           2          2         0        no    yes   no         no     yes     no      yes      yes       4         3      5     1     2       3         0   6   0   0\\n270     GP   F   19       U     GT3       T     3     3     other  services        home    other           1          2         2        no    yes  yes        yes     yes    yes      yes       no       4         3      5     3     3       5        15   9   9   9\\n271     GP   F   18       U     GT3       T     2     3     other  services  reputation   father           1          4         0        no    yes  yes        yes     yes    yes      yes      yes       4         5      5     1     3       2         4  15  14  14\\n272     GP   F   18       U     LE3       T     1     1     other     other        home   mother           2          2         0        no    yes  yes         no      no    yes       no       no       4         4      3     1     1       3         2  11  11  11\\n273     GP   M   17       R     GT3       T     1     2   at_home   at_home        home   mother           1          2         0        no    yes  yes        yes      no    yes       no      yes       3         5      2     2     2       1         2  15  14  14\\n274     GP   F   17       U     GT3       T     2     4   at_home    health  reputation   mother           2          2         0        no    yes  yes         no     yes    yes      yes      yes       4         3      3     1     1       1         2  10  10  10\\n275     GP   F   17       U     LE3       T     2     2  services     other      course   mother           2          2         0       yes    yes  yes         no     yes    yes      yes      yes       4         4      4     2     3       5         6  12  12  12\\n276     GP   F   18       R     GT3       A     3     2     other  services        home   mother           2          2         0        no     no   no         no      no     no      yes      yes       4         1      1     1     1       5        75  10   9   9\\n277     GP   M   18       U     GT3       T     4     4   teacher  services        home   mother           2          1         0        no     no  yes        yes     yes    yes      yes       no       3         2      4     1     4       3        22   9   9   9\\n278     GP   F   18       U     GT3       T     4     4    health    health  reputation   father           1          2         1       yes    yes   no        yes     yes    yes      yes      yes       2         4      4     1     1       4        15   9   8   8\\n279     GP   M   18       U     LE3       T     4     3   teacher  services      course   mother           2          1         0        no     no  yes        yes     yes    yes      yes       no       4         2      3     1     2       1         8  10  11  10\\n280     GP   M   17       U     LE3       A     4     1  services     other        home   mother           2          1         0        no     no  yes        yes     yes    yes      yes      yes       4         5      4     2     4       5        30   8   8   8\\n281     GP   M   17       U     LE3       A     3     2   teacher  services        home   mother           1          1         1        no     no   no         no     yes    yes      yes       no       4         4      4     3     4       3        19  11   9  10\\n282     GP   F   18       R     LE3       T     1     1   at_home     other  reputation   mother           2          4         0        no    yes  yes        yes     yes    yes       no       no       5         2      2     1     1       3         1  12  12  12\\n283     GP   F   18       U     GT3       T     1     1     other     other        home   mother           2          2         0       yes     no   no        yes     yes    yes      yes       no       5         4      4     1     1       4         4   8   9  10\\n284     GP   F   17       U     GT3       T     2     2     other     other      course   mother           1          2         0        no    yes   no         no      no    yes      yes       no       5         4      5     1     2       5         4  10   9  11\\n285     GP   M   17       U     GT3       T     1     1     other     other  reputation   father           1          2         0        no     no  yes         no      no    yes      yes       no       4         3      3     1     2       4         2  12  10  11\\n286     GP   F   18       U     GT3       T     2     2   at_home   at_home       other   mother           1          3         0        no    yes  yes         no     yes    yes      yes       no       4         3      3     1     2       2         5  18  18  19\\n287     GP   F   17       U     GT3       T     1     1  services   teacher  reputation   mother           1          3         0        no    yes  yes         no     yes    yes      yes       no       4         3      3     1     1       3         6  13  12  12\\n288     GP   M   18       U     GT3       T     2     1  services  services  reputation   mother           1          3         0        no     no  yes        yes     yes    yes      yes       no       4         2      4     1     3       2         6  15  14  14\\n289     GP   M   18       U     LE3       A     4     4   teacher   teacher  reputation   mother           1          2         0        no    yes  yes        yes     yes    yes      yes       no       5         4      3     1     1       2         9  15  13  15\\n290     GP   M   18       U     GT3       T     4     2   teacher     other        home   mother           1          2         0        no    yes  yes        yes     yes    yes      yes      yes       4         3      2     1     4       5        11  12  11  11\\n291     GP   F   17       U     GT3       T     4     3    health  services  reputation   mother           1          3         0        no    yes  yes         no     yes    yes      yes       no       4         2      2     1     2       3         0  15  15  15\\n292     GP   F   18       U     LE3       T     2     1  services   at_home  reputation   mother           1          2         1        no     no   no         no     yes    yes      yes      yes       5         4      3     1     1       5        12  12  12  13\\n293     GP   F   17       R     LE3       T     3     1  services     other  reputation   mother           2          4         0        no    yes  yes         no     yes    yes       no       no       3         1      2     1     1       3         6  18  18  18\\n294     GP   M   18       R     LE3       T     3     2  services     other  reputation   mother           2          3         0        no    yes  yes        yes     yes    yes      yes       no       5         4      2     1     1       4         8  14  13  14\\n295     GP   M   17       U     GT3       T     3     3    health     other        home   mother           1          1         0        no    yes  yes         no     yes    yes      yes       no       4         4      3     1     3       5         4  14  12  11\\n296     GP   F   19       U     GT3       T     4     4    health     other  reputation    other           2          2         0        no    yes  yes        yes     yes    yes      yes       no       2         3      4     2     3       2         0  10   9   0\\n297     GP   F   18       U     LE3       T     4     3     other     other        home    other           2          2         0        no    yes  yes         no     yes    yes      yes      yes       4         4      5     1     2       2        10  10   8   8\\n298     GP   F   18       U     GT3       T     4     3     other     other  reputation   father           1          4         0        no    yes  yes         no     yes    yes      yes       no       4         3      3     1     1       3         0  14  13  14\\n299     GP   M   18       U     LE3       T     4     4   teacher   teacher        home   mother           1          1         0        no    yes  yes         no     yes    yes      yes      yes       1         4      2     2     2       1         5  16  15  16\\n300     GP   F   18       U     LE3       A     4     4    health     other        home   mother           1          2         0        no    yes   no         no     yes    yes      yes      yes       4         2      4     1     1       4        14  12  10  11\\n301     GP   M   17       U     LE3       T     4     4     other   teacher        home   father           2          1         0        no     no  yes         no     yes    yes      yes       no       4         1      1     2     2       5         0  11  11  10\\n302     GP   F   17       U     GT3       T     4     2     other     other  reputation   mother           2          3         0        no    yes  yes         no     yes    yes      yes       no       4         3      3     1     1       3         0  15  12  14\\n303     GP   F   17       U     GT3       T     3     2    health    health  reputation   father           1          4         0        no    yes  yes        yes      no    yes      yes       no       5         2      2     1     2       5         0  17  17  18\\n304     GP   M   19       U     GT3       T     3     3     other     other        home    other           1          2         1        no    yes   no        yes     yes    yes      yes      yes       4         4      4     1     1       3        20  15  14  13\\n305     GP   F   18       U     GT3       T     2     4  services   at_home  reputation    other           1          2         1        no    yes  yes        yes     yes    yes      yes       no       4         4      3     1     1       3         8  14  12  12\\n306     GP   M   20       U     GT3       A     3     2  services     other      course    other           1          1         0        no     no   no        yes     yes    yes       no       no       5         5      3     1     1       5         0  17  18  18\\n307     GP   M   19       U     GT3       T     4     4   teacher  services  reputation    other           2          1         1        no    yes  yes         no     yes    yes      yes      yes       4         3      4     1     1       4        38   8   9   8\\n308     GP   M   19       R     GT3       T     3     3     other  services  reputation   father           1          2         1        no     no   no        yes     yes    yes       no      yes       4         5      3     1     2       5         0  15  12  12\\n309     GP   F   19       U     LE3       T     1     1   at_home     other  reputation    other           1          2         1       yes    yes   no        yes      no    yes      yes       no       4         4      3     1     3       3        18  12  10  10\\n310     GP   F   19       U     LE3       T     1     2  services  services        home    other           1          2         1        no     no   no        yes      no    yes       no      yes       4         2      4     2     2       3         0   9   9   0\\n311     GP   F   19       U     GT3       T     2     1   at_home     other       other    other           3          2         0        no    yes   no         no     yes     no      yes      yes       3         4      1     1     1       2        20  14  12  13\\n312     GP   M   19       U     GT3       T     1     2     other  services      course    other           1          2         1        no     no   no         no      no    yes      yes       no       4         5      2     2     2       4         3  13  11  11\\n313     GP   F   19       U     LE3       T     3     2  services     other  reputation    other           2          2         1        no    yes  yes         no      no    yes      yes      yes       4         2      2     1     2       1        22  13  10  11\\n314     GP   F   19       U     GT3       T     1     1   at_home    health        home    other           1          3         2        no     no   no         no      no    yes      yes      yes       4         1      2     1     1       3        14  15  13  13\\n315     GP   F   19       R     GT3       T     2     3     other     other  reputation    other           1          3         1        no     no   no         no     yes    yes      yes      yes       4         1      2     1     1       3        40  13  11  11\\n316     GP   F   18       U     GT3       T     2     1  services     other      course   mother           2          2         0        no    yes  yes        yes     yes    yes      yes       no       5         3      3     1     2       1         0   8   8   0\\n317     GP   F   18       U     GT3       T     4     3     other     other      course   mother           1          3         0        no    yes  yes        yes     yes    yes      yes      yes       4         3      4     1     1       5         9   9  10   9\\n318     GP   F   17       R     GT3       T     3     4   at_home  services      course   father           1          3         0        no    yes  yes        yes      no    yes      yes       no       4         3      4     2     5       5         0  11  11  10\\n319     GP   F   18       U     GT3       T     4     4   teacher     other      course   mother           1          2         0        no    yes  yes         no     yes    yes      yes       no       4         4      4     3     3       5         2  11  11  11\\n320     GP   F   17       U     GT3       A     4     3  services  services      course   mother           1          2         0        no    yes  yes         no     yes    yes      yes      yes       5         2      2     1     2       5        23  13  13  13\\n321     GP   F   17       U     GT3       T     2     2     other     other      course   mother           1          2         0        no    yes   no         no     yes    yes       no      yes       4         2      2     1     1       3        12  11   9   9\\n322     GP   F   17       R     LE3       T     2     2  services  services      course   mother           1          3         0        no    yes  yes        yes     yes    yes      yes       no       3         3      2     2     2       3         3  11  11  11\\n323     GP   F   17       U     GT3       T     3     1  services  services      course   father           1          3         0        no    yes   no         no      no    yes      yes       no       3         4      3     2     3       5         1  12  14  15\\n324     GP   F   17       U     LE3       T     0     2   at_home   at_home        home   father           2          3         0        no     no   no         no     yes    yes      yes       no       3         3      3     2     3       2         0  16  15  15\\n325     GP   M   18       U     GT3       T     4     4     other     other      course   mother           1          3         0        no     no   no        yes     yes    yes      yes       no       4         3      3     2     2       3         3   9  12  11\\n326     GP   M   17       U     GT3       T     3     3     other  services  reputation   mother           1          1         0        no     no   no        yes      no    yes      yes       no       4         3      5     3     5       5         3  14  15  16\\n327     GP   M   17       R     GT3       T     2     2  services     other      course   mother           4          1         0        no    yes   no         no     yes    yes      yes       no       4         4      5     5     5       4         8  11  10  10\\n328     GP   F   17       U     GT3       T     4     4   teacher  services      course   mother           1          3         0        no    yes  yes        yes     yes    yes      yes       no       5         4      4     1     3       4         7  10   9   9\\n329     GP   F   17       U     GT3       T     4     4   teacher   teacher      course   mother           2          3         0        no    yes  yes         no      no    yes      yes      yes       4         3      3     1     2       4         4  14  14  14\\n330     GP   M   18       U     LE3       T     2     2     other     other      course   mother           1          4         0        no    yes   no        yes     yes    yes      yes       no       4         5      5     2     4       5         2   9   8   8\\n331     GP   F   17       R     GT3       T     2     4   at_home     other      course   father           1          3         0        no    yes   no         no     yes    yes      yes      yes       4         4      3     1     1       5         7  12  14  14\\n332     GP   F   18       U     GT3       T     3     3  services  services        home   mother           1          2         0        no     no   no        yes     yes    yes      yes       no       5         3      4     1     1       4         0   7   0   0\\n333     GP   F   18       U     LE3       T     2     2     other     other        home    other           1          2         0        no     no   no        yes      no    yes      yes      yes       4         3      3     1     1       2         0   8   8   0\\n334     GP   F   18       R     GT3       T     2     2   at_home     other      course   mother           2          4         0        no     no   no        yes     yes    yes       no       no       4         4      4     1     1       4         0  10   9   0\\n335     GP   F   17       U     GT3       T     3     4  services     other      course   mother           1          3         0        no     no   no         no     yes    yes      yes       no       4         4      5     1     3       5        16  16  15  15\\n336     GP   F   19       R     GT3       A     3     1  services   at_home        home    other           1          3         1        no     no  yes         no     yes    yes       no       no       5         4      3     1     2       5        12  14  13  13\\n337     GP   F   17       U     GT3       T     3     2     other     other        home   mother           1          2         0        no    yes  yes         no     yes    yes      yes      yes       4         3      2     2     3       2         0   7   8   0\\n338     GP   F   18       U     LE3       T     3     3  services  services        home   mother           1          4         0        no    yes   no         no     yes    yes      yes       no       5         3      3     1     1       1         7  16  15  17\\n339     GP   F   17       R     GT3       A     3     2     other     other        home   mother           1          2         0        no    yes  yes         no     yes    yes      yes       no       4         3      3     2     3       2         4   9  10  10\\n340     GP   F   19       U     GT3       T     2     1  services  services        home    other           1          3         1        no     no  yes        yes     yes    yes      yes      yes       4         3      4     1     3       3         4  11  12  11\\n341     GP   M   18       U     GT3       T     4     4   teacher  services        home   father           1          2         1        no    yes   no        yes     yes    yes      yes       no       4         3      3     2     2       2         0  10  10   0\\n342     GP   M   18       U     LE3       T     3     4  services     other        home   mother           1          2         0        no     no   no        yes     yes    yes      yes      yes       4         3      3     1     3       5        11  16  15  15\\n343     GP   F   17       U     GT3       A     2     2   at_home   at_home        home   father           1          2         1        no    yes   no         no     yes    yes      yes      yes       3         3      1     1     2       4         0   9   8   0\\n344     GP   F   18       U     GT3       T     2     3   at_home     other      course   mother           1          3         0        no    yes   no         no     yes    yes      yes       no       4         3      3     1     2       3         4  11  10  10\\n345     GP   F   18       U     GT3       T     3     2     other  services       other   mother           1          3         0        no     no   no         no     yes    yes      yes      yes       5         4      3     2     3       1         7  13  13  14\\n346     GP   M   18       R     GT3       T     4     3   teacher  services      course   mother           1          3         0        no     no   no         no     yes    yes      yes      yes       5         3      2     1     2       4         9  16  15  16\\n347     GP   M   18       U     GT3       T     4     3   teacher     other      course   mother           1          3         0        no    yes  yes         no     yes    yes      yes      yes       5         4      5     2     3       5         0  10  10   9\\n348     GP   F   17       U     GT3       T     4     3    health     other  reputation   mother           1          3         0        no    yes  yes        yes     yes    yes      yes      yes       4         4      3     1     3       4         0  13  15  15\\n349     MS   M   18       R     GT3       T     3     2     other     other      course   mother           2          1         1        no    yes   no         no      no    yes      yes       no       2         5      5     5     5       5        10  11  13  13\\n350     MS   M   19       R     GT3       T     1     1     other  services        home    other           3          2         3        no     no   no         no     yes    yes      yes       no       5         4      4     3     3       2         8   8   7   8\\n351     MS   M   17       U     GT3       T     3     3    health     other      course   mother           2          2         0        no    yes  yes         no     yes    yes      yes       no       4         5      4     2     3       3         2  13  13  13\\n352     MS   M   18       U     LE3       T     1     3   at_home  services      course   mother           1          1         1        no     no   no         no     yes     no      yes      yes       4         3      3     2     3       3         7   8   7   8\\n353     MS   M   19       R     GT3       T     1     1     other     other        home    other           3          1         1        no    yes   no         no     yes    yes      yes       no       4         4      4     3     3       5         4   8   8   8\\n354     MS   M   17       R     GT3       T     4     3  services     other        home   mother           2          2         0        no    yes  yes        yes      no    yes      yes      yes       4         5      5     1     3       2         4  13  11  11\\n355     MS   F   18       U     GT3       T     3     3  services  services      course   father           1          2         0        no    yes   no         no     yes    yes       no      yes       5         3      4     1     1       5         0  10   9   9\\n356     MS   F   17       R     GT3       T     4     4   teacher  services       other   father           2          2         0        no    yes  yes        yes     yes    yes      yes       no       4         3      3     1     2       5         4  12  13  13\\n357     MS   F   17       U     LE3       A     3     2  services     other  reputation   mother           2          2         0        no     no   no         no     yes    yes       no      yes       1         2      3     1     2       5         2  12  12  11\\n358     MS   M   18       U     LE3       T     1     1     other  services        home   father           2          1         0        no     no   no         no      no    yes      yes      yes       3         3      2     1     2       3         4  10  10  10\\n359     MS   F   18       U     LE3       T     1     1   at_home  services      course   father           2          3         0        no     no   no         no     yes    yes      yes       no       5         3      2     1     1       4         0  18  16  16\\n360     MS   F   18       R     LE3       A     1     4   at_home     other      course   mother           3          2         0        no     no   no         no     yes    yes       no      yes       4         3      4     1     4       5         0  13  13  13\\n361     MS   M   18       R     LE3       T     1     1   at_home     other       other   mother           2          2         1        no     no   no        yes      no     no       no       no       4         4      3     2     3       5         2  13  12  12\\n362     MS   F   18       U     GT3       T     3     3  services  services       other   mother           2          2         0        no    yes   no         no     yes    yes      yes      yes       4         3      2     1     3       3         0  11  11  10\\n363     MS   F   17       U     LE3       T     4     4   at_home   at_home      course   mother           1          2         0        no    yes  yes        yes     yes    yes      yes      yes       2         3      4     1     1       1         0  16  15  15\\n364     MS   F   17       R     GT3       T     1     2     other  services      course   father           2          2         0        no     no   no         no      no    yes       no       no       3         2      2     1     2       3         0  12  11  12\\n365     MS   M   18       R     GT3       T     1     3   at_home     other      course   mother           2          2         0        no    yes  yes         no     yes    yes       no       no       3         3      4     2     4       3         4  10  10  10\\n366     MS   M   18       U     LE3       T     4     4   teacher  services       other   mother           2          3         0        no     no  yes         no     yes    yes      yes      yes       4         2      2     2     2       5         0  13  13  13\\n367     MS   F   17       R     GT3       T     1     1     other  services  reputation   mother           3          1         1        no    yes  yes         no     yes    yes      yes      yes       5         2      1     1     2       1         0   7   6   0\\n368     MS   F   18       U     GT3       T     2     3   at_home  services      course   father           2          1         0        no    yes  yes         no     yes    yes      yes      yes       5         2      3     1     2       4         0  11  10  10\\n369     MS   F   18       R     GT3       T     4     4     other   teacher       other   father           3          2         0        no    yes  yes         no      no    yes      yes      yes       3         2      2     4     2       5        10  14  12  11\\n370     MS   F   19       U     LE3       T     3     2  services  services        home    other           2          2         2        no     no   no        yes     yes    yes       no      yes       3         2      2     1     1       3         4   7   7   9\\n371     MS   M   18       R     LE3       T     1     2   at_home  services       other   father           3          1         0        no    yes  yes        yes     yes     no      yes      yes       4         3      3     2     3       3         3  14  12  12\\n372     MS   F   17       U     GT3       T     2     2     other   at_home        home   mother           1          3         0        no     no   no        yes     yes    yes       no      yes       3         4      3     1     1       3         8  13  11  11\\n373     MS   F   17       R     GT3       T     1     2     other     other      course   mother           1          1         0        no     no   no        yes     yes    yes      yes       no       3         5      5     1     3       1        14   6   5   5\\n374     MS   F   18       R     LE3       T     4     4     other     other  reputation   mother           2          3         0        no     no   no         no     yes    yes      yes       no       5         4      4     1     1       1         0  19  18  19\\n375     MS   F   18       R     GT3       T     1     1     other     other        home   mother           4          3         0        no     no   no         no     yes    yes      yes       no       4         3      2     1     2       4         2   8   8  10\\n376     MS   F   20       U     GT3       T     4     2    health     other      course    other           2          3         2        no    yes  yes         no      no    yes      yes      yes       5         4      3     1     1       3         4  15  14  15\\n377     MS   F   18       R     LE3       T     4     4   teacher  services      course   mother           1          2         0        no     no  yes        yes     yes    yes      yes       no       5         4      3     3     4       2         4   8   9  10\\n378     MS   F   18       U     GT3       T     3     3     other     other        home   mother           1          2         0        no     no  yes         no     yes    yes      yes      yes       4         1      3     1     2       1         0  15  15  15\\n379     MS   F   17       R     GT3       T     3     1   at_home     other  reputation   mother           1          2         0        no    yes  yes        yes      no    yes      yes       no       4         5      4     2     3       1        17  10  10  10\\n380     MS   M   18       U     GT3       T     4     4   teacher   teacher        home   father           1          2         0        no     no  yes        yes      no    yes      yes       no       3         2      4     1     4       2         4  15  14  14\\n381     MS   M   18       R     GT3       T     2     1     other     other       other   mother           2          1         0        no     no   no        yes      no    yes      yes      yes       4         4      3     1     3       5         5   7   6   7\\n382     MS   M   17       U     GT3       T     2     3     other  services        home   father           2          2         0        no     no   no        yes     yes    yes      yes       no       4         4      3     1     1       3         2  11  11  10\\n383     MS   M   19       R     GT3       T     1     1     other  services       other   mother           2          1         1        no     no   no         no     yes    yes       no       no       4         3      2     1     3       5         0   6   5   0\\n384     MS   M   18       R     GT3       T     4     2     other     other        home   father           2          1         1        no     no  yes         no     yes    yes       no       no       5         4      3     4     3       3        14   6   5   5\\n385     MS   F   18       R     GT3       T     2     2   at_home     other       other   mother           2          3         0        no     no  yes         no     yes    yes       no       no       5         3      3     1     3       4         2  10   9  10\\n386     MS   F   18       R     GT3       T     4     4   teacher   at_home  reputation   mother           3          1         0        no    yes  yes        yes     yes    yes      yes      yes       4         4      3     2     2       5         7   6   5   6\\n387     MS   F   19       R     GT3       T     2     3  services     other      course   mother           1          3         1        no     no   no        yes      no    yes      yes       no       5         4      2     1     2       5         0   7   5   0\\n388     MS   F   18       U     LE3       T     3     1   teacher  services      course   mother           1          2         0        no    yes  yes         no     yes    yes      yes       no       4         3      4     1     1       1         0   7   9   8\\n389     MS   F   18       U     GT3       T     1     1     other     other      course   mother           2          2         1        no     no   no        yes     yes    yes       no       no       1         1      1     1     1       5         0   6   5   0\\n390     MS   M   20       U     LE3       A     2     2  services  services      course    other           1          2         2        no    yes  yes         no     yes    yes       no       no       5         5      4     4     5       4        11   9   9   9\\n391     MS   M   17       U     LE3       T     3     1  services  services      course   mother           2          1         0        no     no   no         no      no    yes      yes       no       2         4      5     3     4       2         3  14  16  16\\n392     MS   M   21       R     GT3       T     1     1     other     other      course    other           1          1         3        no     no   no         no      no    yes       no       no       5         5      3     3     3       3         3  10   8   7\\n393     MS   M   18       R     LE3       T     3     2  services     other      course   mother           3          1         0        no     no   no         no      no    yes      yes       no       4         4      1     3     4       5         0  11  12  10\\n394     MS   M   19       U     LE3       T     1     1     other   at_home      course   father           1          1         0        no     no   no         no     yes    yes      yes       no       3         2      3     3     3       5         5   8   9   9'"
      ]
     },
     "execution_count": 18,
     "metadata": {},
     "output_type": "execute_result"
    }
   ],
   "source": [
    "df_string=df.to_string()\n",
    "df_string"
   ]
  },
  {
   "cell_type": "markdown",
   "id": "9bd4a9a8",
   "metadata": {},
   "source": [
    "Let's cut the DataFrame String "
   ]
  },
  {
   "cell_type": "code",
   "execution_count": 19,
   "id": "c3c083fc",
   "metadata": {},
   "outputs": [
    {
     "data": {
      "text/plain": [
       "'    school sex  age address famsize Pstatus  Medu  Fedu      Mjob      Fjob      reason guardian  tr'"
      ]
     },
     "execution_count": 19,
     "metadata": {},
     "output_type": "execute_result"
    }
   ],
   "source": [
    "df_string[:100]"
   ]
  },
  {
   "cell_type": "markdown",
   "id": "5390292e",
   "metadata": {},
   "source": [
    "In Pandas Maximum Number of rows is defined to display"
   ]
  },
  {
   "cell_type": "code",
   "execution_count": 20,
   "id": "04177ec7",
   "metadata": {},
   "outputs": [
    {
     "data": {
      "text/plain": [
       "60"
      ]
     },
     "execution_count": 20,
     "metadata": {},
     "output_type": "execute_result"
    }
   ],
   "source": [
    "pd.options.display.max_rows"
   ]
  },
  {
   "cell_type": "markdown",
   "id": "b019fdfa",
   "metadata": {},
   "source": [
    "Read the JSON format "
   ]
  },
  {
   "cell_type": "code",
   "execution_count": 21,
   "id": "f179fccd",
   "metadata": {},
   "outputs": [
    {
     "data": {
      "text/html": [
       "<div>\n",
       "<style scoped>\n",
       "    .dataframe tbody tr th:only-of-type {\n",
       "        vertical-align: middle;\n",
       "    }\n",
       "\n",
       "    .dataframe tbody tr th {\n",
       "        vertical-align: top;\n",
       "    }\n",
       "\n",
       "    .dataframe thead th {\n",
       "        text-align: right;\n",
       "    }\n",
       "</style>\n",
       "<table border=\"1\" class=\"dataframe\">\n",
       "  <thead>\n",
       "    <tr style=\"text-align: right;\">\n",
       "      <th></th>\n",
       "      <th>sepalLength</th>\n",
       "      <th>sepalWidth</th>\n",
       "      <th>petalLength</th>\n",
       "      <th>petalWidth</th>\n",
       "      <th>species</th>\n",
       "    </tr>\n",
       "  </thead>\n",
       "  <tbody>\n",
       "    <tr>\n",
       "      <th>0</th>\n",
       "      <td>5.1</td>\n",
       "      <td>3.5</td>\n",
       "      <td>1.4</td>\n",
       "      <td>0.2</td>\n",
       "      <td>setosa</td>\n",
       "    </tr>\n",
       "    <tr>\n",
       "      <th>1</th>\n",
       "      <td>4.9</td>\n",
       "      <td>3.0</td>\n",
       "      <td>1.4</td>\n",
       "      <td>0.2</td>\n",
       "      <td>setosa</td>\n",
       "    </tr>\n",
       "    <tr>\n",
       "      <th>2</th>\n",
       "      <td>4.7</td>\n",
       "      <td>3.2</td>\n",
       "      <td>1.3</td>\n",
       "      <td>0.2</td>\n",
       "      <td>setosa</td>\n",
       "    </tr>\n",
       "    <tr>\n",
       "      <th>3</th>\n",
       "      <td>4.6</td>\n",
       "      <td>3.1</td>\n",
       "      <td>1.5</td>\n",
       "      <td>0.2</td>\n",
       "      <td>setosa</td>\n",
       "    </tr>\n",
       "    <tr>\n",
       "      <th>4</th>\n",
       "      <td>5.0</td>\n",
       "      <td>3.6</td>\n",
       "      <td>1.4</td>\n",
       "      <td>0.2</td>\n",
       "      <td>setosa</td>\n",
       "    </tr>\n",
       "  </tbody>\n",
       "</table>\n",
       "</div>"
      ],
      "text/plain": [
       "   sepalLength  sepalWidth  petalLength  petalWidth species\n",
       "0          5.1         3.5          1.4         0.2  setosa\n",
       "1          4.9         3.0          1.4         0.2  setosa\n",
       "2          4.7         3.2          1.3         0.2  setosa\n",
       "3          4.6         3.1          1.5         0.2  setosa\n",
       "4          5.0         3.6          1.4         0.2  setosa"
      ]
     },
     "execution_count": 21,
     "metadata": {},
     "output_type": "execute_result"
    }
   ],
   "source": [
    "json_df=pd.read_json(\"D:/python_projects/datasets/iris.json\")\n",
    "json_df.head()"
   ]
  },
  {
   "cell_type": "code",
   "execution_count": 22,
   "id": "1a90682b",
   "metadata": {},
   "outputs": [
    {
     "name": "stdout",
     "output_type": "stream",
     "text": [
      "<class 'pandas.core.frame.DataFrame'>\n",
      "RangeIndex: 150 entries, 0 to 149\n",
      "Data columns (total 5 columns):\n",
      " #   Column       Non-Null Count  Dtype  \n",
      "---  ------       --------------  -----  \n",
      " 0   sepalLength  150 non-null    float64\n",
      " 1   sepalWidth   150 non-null    float64\n",
      " 2   petalLength  150 non-null    float64\n",
      " 3   petalWidth   150 non-null    float64\n",
      " 4   species      150 non-null    object \n",
      "dtypes: float64(4), object(1)\n",
      "memory usage: 6.0+ KB\n"
     ]
    }
   ],
   "source": [
    "json_df.info()   # Give more info about the dataset "
   ]
  },
  {
   "cell_type": "code",
   "execution_count": 23,
   "id": "5f5d88ec",
   "metadata": {},
   "outputs": [
    {
     "data": {
      "text/plain": [
       "<AxesSubplot:>"
      ]
     },
     "execution_count": 23,
     "metadata": {},
     "output_type": "execute_result"
    },
    {
     "data": {
      "image/png": "[encoded data removed]",
      "text/plain": [
       "<Figure size 432x288 with 1 Axes>"
      ]
     },
     "metadata": {
      "needs_background": "light"
     },
     "output_type": "display_data"
    }
   ],
   "source": [
    "json_df.plot()"
   ]
  },
  {
   "cell_type": "code",
   "execution_count": 24,
   "id": "5a8ede0b",
   "metadata": {},
   "outputs": [
    {
     "data": {
      "text/plain": [
       "<AxesSubplot:>"
      ]
     },
     "execution_count": 24,
     "metadata": {},
     "output_type": "execute_result"
    },
    {
     "data": {
      "image/png": "[encoded data removed]",
      "text/plain": [
       "<Figure size 432x288 with 1 Axes>"
      ]
     },
     "metadata": {
      "needs_background": "light"
     },
     "output_type": "display_data"
    }
   ],
   "source": [
    "df.plot()"
   ]
  },
  {
   "cell_type": "code",
   "execution_count": 25,
   "id": "a0aad082",
   "metadata": {},
   "outputs": [
    {
     "data": {
      "text/plain": [
       "<AxesSubplot:>"
      ]
     },
     "execution_count": 25,
     "metadata": {},
     "output_type": "execute_result"
    },
    {
     "data": {
      "image/png": "[encoded data removed]",
      "text/plain": [
       "<Figure size 432x288 with 1 Axes>"
      ]
     },
     "metadata": {
      "needs_background": "light"
     },
     "output_type": "display_data"
    }
   ],
   "source": [
    "df.plot(kind='bar')"
   ]
  },
  {
   "cell_type": "code",
   "execution_count": 26,
   "id": "a0785417",
   "metadata": {},
   "outputs": [
    {
     "name": "stdout",
     "output_type": "stream",
     "text": [
      "Note: you may need to restart the kernel to use updated packages.\n"
     ]
    },
    {
     "name": "stderr",
     "output_type": "stream",
     "text": [
      "ERROR: Invalid requirement: '#Install'\n"
     ]
    }
   ],
   "source": [
    "pip install mysql-connector-python  #Install the connector "
   ]
  },
  {
   "cell_type": "markdown",
   "id": "e5a084be",
   "metadata": {},
   "source": [
    "# Connect Python With Database (MYSQL)"
   ]
  },
  {
   "cell_type": "code",
   "execution_count": 27,
   "id": "bb370523",
   "metadata": {},
   "outputs": [
    {
     "name": "stdout",
     "output_type": "stream",
     "text": [
      " Connected \n"
     ]
    }
   ],
   "source": [
    "import mysql.connector # import mysql connector \n",
    "db = mysql.connector.connect(\n",
    "  host=\"localhost\",\n",
    "  user=\"root\",\n",
    "  password=\"\",\n",
    "  database=\"neetjee\"\n",
    ")\n",
    "\n",
    "if db:\n",
    "    print(\" Connected \")"
   ]
  },
  {
   "cell_type": "markdown",
   "id": "4b87ef30",
   "metadata": {},
   "source": [
    "Convert the sql resultset in the DataFrame "
   ]
  },
  {
   "cell_type": "code",
   "execution_count": 38,
   "id": "1fe0aa87",
   "metadata": {},
   "outputs": [
    {
     "data": {
      "text/html": [
       "<div>\n",
       "<style scoped>\n",
       "    .dataframe tbody tr th:only-of-type {\n",
       "        vertical-align: middle;\n",
       "    }\n",
       "\n",
       "    .dataframe tbody tr th {\n",
       "        vertical-align: top;\n",
       "    }\n",
       "\n",
       "    .dataframe thead th {\n",
       "        text-align: right;\n",
       "    }\n",
       "</style>\n",
       "<table border=\"1\" class=\"dataframe\">\n",
       "  <thead>\n",
       "    <tr style=\"text-align: right;\">\n",
       "      <th></th>\n",
       "      <th>0</th>\n",
       "      <th>1</th>\n",
       "      <th>2</th>\n",
       "      <th>3</th>\n",
       "      <th>4</th>\n",
       "      <th>5</th>\n",
       "      <th>6</th>\n",
       "      <th>7</th>\n",
       "      <th>8</th>\n",
       "      <th>9</th>\n",
       "      <th>...</th>\n",
       "      <th>24</th>\n",
       "      <th>25</th>\n",
       "      <th>26</th>\n",
       "      <th>27</th>\n",
       "      <th>28</th>\n",
       "      <th>29</th>\n",
       "      <th>30</th>\n",
       "      <th>31</th>\n",
       "      <th>32</th>\n",
       "      <th>33</th>\n",
       "    </tr>\n",
       "  </thead>\n",
       "  <tbody>\n",
       "    <tr>\n",
       "      <th>0</th>\n",
       "      <td>1</td>\n",
       "      <td>Vidyasagar</td>\n",
       "      <td></td>\n",
       "      <td>vidyasagarmetta@gmail.com</td>\n",
       "      <td>7288877886</td>\n",
       "      <td>$2b$12$6eFhJxj9p4NwoIxZapAxQe0W4e8ysJHgnTzNVuk...</td>\n",
       "      <td>1</td>\n",
       "      <td>1</td>\n",
       "      <td>5</td>\n",
       "      <td>2020</td>\n",
       "      <td>...</td>\n",
       "      <td>eZ5EWNbv3k4:APA91bE-kceZSipVQlN4V_nrRL6iYGNGWv...</td>\n",
       "      <td>27</td>\n",
       "      <td>0</td>\n",
       "      <td>58fe150950e13f9c</td>\n",
       "      <td>eyJhbGciOiJIUzI1NiIsInR5cCI6IkpXVCJ9.eyJ1c2VyX...</td>\n",
       "      <td>2766160143628799</td>\n",
       "      <td>1</td>\n",
       "      <td></td>\n",
       "      <td>0</td>\n",
       "      <td>NaN</td>\n",
       "    </tr>\n",
       "    <tr>\n",
       "      <th>1</th>\n",
       "      <td>7</td>\n",
       "      <td>rajeev</td>\n",
       "      <td></td>\n",
       "      <td>rajeev1@entrolabs.com</td>\n",
       "      <td>9866667788</td>\n",
       "      <td>$2b$12$oYEwj7pd5NBbFoiRIre.leo6JF.uJqwrvAivNp2...</td>\n",
       "      <td>2</td>\n",
       "      <td>1</td>\n",
       "      <td>5</td>\n",
       "      <td>2022</td>\n",
       "      <td>...</td>\n",
       "      <td></td>\n",
       "      <td>0</td>\n",
       "      <td>0</td>\n",
       "      <td></td>\n",
       "      <td></td>\n",
       "      <td></td>\n",
       "      <td>1</td>\n",
       "      <td></td>\n",
       "      <td>0</td>\n",
       "      <td>NaN</td>\n",
       "    </tr>\n",
       "    <tr>\n",
       "      <th>2</th>\n",
       "      <td>22</td>\n",
       "      <td>Rajeev</td>\n",
       "      <td></td>\n",
       "      <td>wijarknight@gmail.com</td>\n",
       "      <td>9502564528</td>\n",
       "      <td>$2b$12$eOnaUMNpppp/SoHg8m234.Od/qBDIvEHjgycapT...</td>\n",
       "      <td>1</td>\n",
       "      <td>2</td>\n",
       "      <td>6</td>\n",
       "      <td>2022</td>\n",
       "      <td>...</td>\n",
       "      <td>fL8F9-SBVyk:APA91bFxbIn34O-BsVJ-CA6EQIe8NjlQe6...</td>\n",
       "      <td>44</td>\n",
       "      <td>0</td>\n",
       "      <td>b6af364b4106813d</td>\n",
       "      <td>eyJhbGciOiJIUzI1NiIsInR5cCI6IkpXVCJ9.eyJ1c2VyX...</td>\n",
       "      <td></td>\n",
       "      <td>1</td>\n",
       "      <td></td>\n",
       "      <td>0</td>\n",
       "      <td>NaN</td>\n",
       "    </tr>\n",
       "    <tr>\n",
       "      <th>3</th>\n",
       "      <td>25</td>\n",
       "      <td>Ramakrishna</td>\n",
       "      <td></td>\n",
       "      <td>r.ramakrishna2200@gmail.com</td>\n",
       "      <td>8639002165</td>\n",
       "      <td>$2b$12$DBQ0L8aMI9FyyHJDRkHgP.Sz1XMi803DT5qUD2t...</td>\n",
       "      <td>2</td>\n",
       "      <td>1</td>\n",
       "      <td>1</td>\n",
       "      <td>2021</td>\n",
       "      <td>...</td>\n",
       "      <td></td>\n",
       "      <td>0</td>\n",
       "      <td>0</td>\n",
       "      <td></td>\n",
       "      <td></td>\n",
       "      <td></td>\n",
       "      <td>1</td>\n",
       "      <td></td>\n",
       "      <td>0</td>\n",
       "      <td>NaN</td>\n",
       "    </tr>\n",
       "    <tr>\n",
       "      <th>4</th>\n",
       "      <td>29</td>\n",
       "      <td>Gv</td>\n",
       "      <td></td>\n",
       "      <td>test@gmail.com</td>\n",
       "      <td>9965222332</td>\n",
       "      <td>$2b$12$YxnjPmSzVNCjao0eh2iDYuQQmMJW3q/HGzOQSdH...</td>\n",
       "      <td>2</td>\n",
       "      <td>0</td>\n",
       "      <td>0</td>\n",
       "      <td></td>\n",
       "      <td>...</td>\n",
       "      <td></td>\n",
       "      <td>0</td>\n",
       "      <td>0</td>\n",
       "      <td></td>\n",
       "      <td></td>\n",
       "      <td></td>\n",
       "      <td>1</td>\n",
       "      <td></td>\n",
       "      <td>0</td>\n",
       "      <td>NaN</td>\n",
       "    </tr>\n",
       "    <tr>\n",
       "      <th>...</th>\n",
       "      <td>...</td>\n",
       "      <td>...</td>\n",
       "      <td>...</td>\n",
       "      <td>...</td>\n",
       "      <td>...</td>\n",
       "      <td>...</td>\n",
       "      <td>...</td>\n",
       "      <td>...</td>\n",
       "      <td>...</td>\n",
       "      <td>...</td>\n",
       "      <td>...</td>\n",
       "      <td>...</td>\n",
       "      <td>...</td>\n",
       "      <td>...</td>\n",
       "      <td>...</td>\n",
       "      <td>...</td>\n",
       "      <td>...</td>\n",
       "      <td>...</td>\n",
       "      <td>...</td>\n",
       "      <td>...</td>\n",
       "      <td>...</td>\n",
       "    </tr>\n",
       "    <tr>\n",
       "      <th>60656</th>\n",
       "      <td>65858</td>\n",
       "      <td>Sayyad Gouse</td>\n",
       "      <td></td>\n",
       "      <td>gousegouse2004@gmail.com</td>\n",
       "      <td>9849690925</td>\n",
       "      <td>$2b$12$e12fd2278f952fd0d4a8duV0NbonTwSPNscPGBa...</td>\n",
       "      <td>2</td>\n",
       "      <td>2</td>\n",
       "      <td>6</td>\n",
       "      <td>2022</td>\n",
       "      <td>...</td>\n",
       "      <td></td>\n",
       "      <td>0</td>\n",
       "      <td>0</td>\n",
       "      <td></td>\n",
       "      <td></td>\n",
       "      <td></td>\n",
       "      <td>2</td>\n",
       "      <td></td>\n",
       "      <td>0</td>\n",
       "      <td>24.0</td>\n",
       "    </tr>\n",
       "    <tr>\n",
       "      <th>60657</th>\n",
       "      <td>65859</td>\n",
       "      <td>Vashishta</td>\n",
       "      <td></td>\n",
       "      <td>vashishtarudrabatla@gmail.com</td>\n",
       "      <td>6302931183</td>\n",
       "      <td>$2b$12$e12fd2278f952fd0d4a8duRwT9950.nr5MSZA9z...</td>\n",
       "      <td>2</td>\n",
       "      <td>2</td>\n",
       "      <td>6</td>\n",
       "      <td>2022</td>\n",
       "      <td>...</td>\n",
       "      <td></td>\n",
       "      <td>0</td>\n",
       "      <td>0</td>\n",
       "      <td></td>\n",
       "      <td>eyJhbGciOiJIUzI1NiIsInR5cCI6IkpXVCJ9.eyJ1c2VyX...</td>\n",
       "      <td></td>\n",
       "      <td>2</td>\n",
       "      <td></td>\n",
       "      <td>0</td>\n",
       "      <td>24.0</td>\n",
       "    </tr>\n",
       "    <tr>\n",
       "      <th>60658</th>\n",
       "      <td>65860</td>\n",
       "      <td>K Vidya Sowmika</td>\n",
       "      <td></td>\n",
       "      <td>vidyasowmika2004@gmail.com</td>\n",
       "      <td>6305970536</td>\n",
       "      <td>$2b$12$e12fd2278f952fd0d4a8duB5sm1fvlDhonyMvrk...</td>\n",
       "      <td>2</td>\n",
       "      <td>2</td>\n",
       "      <td>3</td>\n",
       "      <td>2022</td>\n",
       "      <td>...</td>\n",
       "      <td></td>\n",
       "      <td>0</td>\n",
       "      <td>0</td>\n",
       "      <td></td>\n",
       "      <td>eyJhbGciOiJIUzI1NiIsInR5cCI6IkpXVCJ9.eyJ1c2VyX...</td>\n",
       "      <td></td>\n",
       "      <td>2</td>\n",
       "      <td></td>\n",
       "      <td>0</td>\n",
       "      <td>1.0</td>\n",
       "    </tr>\n",
       "    <tr>\n",
       "      <th>60659</th>\n",
       "      <td>65861</td>\n",
       "      <td>Shrishti Chauhan</td>\n",
       "      <td></td>\n",
       "      <td>shrishtichauhanpanki@gmail.com</td>\n",
       "      <td>8299170426</td>\n",
       "      <td>$2b$12$e12fd2278f952fd0d4a8duv1Z3yscCsKwVBtZF7...</td>\n",
       "      <td>2</td>\n",
       "      <td>2</td>\n",
       "      <td>1</td>\n",
       "      <td>2022</td>\n",
       "      <td>...</td>\n",
       "      <td></td>\n",
       "      <td>0</td>\n",
       "      <td>0</td>\n",
       "      <td></td>\n",
       "      <td>eyJhbGciOiJIUzI1NiIsInR5cCI6IkpXVCJ9.eyJ1c2VyX...</td>\n",
       "      <td></td>\n",
       "      <td>2</td>\n",
       "      <td></td>\n",
       "      <td>1</td>\n",
       "      <td>26.0</td>\n",
       "    </tr>\n",
       "    <tr>\n",
       "      <th>60660</th>\n",
       "      <td>65862</td>\n",
       "      <td>Susmitha</td>\n",
       "      <td></td>\n",
       "      <td>mahitha0666@gmail.com</td>\n",
       "      <td>6304641540</td>\n",
       "      <td>$2b$12$e12fd2278f952fd0d4a8duCkCpHa1/QgzBuNl5m...</td>\n",
       "      <td>2</td>\n",
       "      <td>2</td>\n",
       "      <td>1</td>\n",
       "      <td>2022</td>\n",
       "      <td>...</td>\n",
       "      <td></td>\n",
       "      <td>0</td>\n",
       "      <td>0</td>\n",
       "      <td></td>\n",
       "      <td></td>\n",
       "      <td></td>\n",
       "      <td>2</td>\n",
       "      <td></td>\n",
       "      <td>1</td>\n",
       "      <td>24.0</td>\n",
       "    </tr>\n",
       "  </tbody>\n",
       "</table>\n",
       "<p>60661 rows × 34 columns</p>\n",
       "</div>"
      ],
      "text/plain": [
       "          0                 1  2                               3           4   \\\n",
       "0          1        Vidyasagar          vidyasagarmetta@gmail.com  7288877886   \n",
       "1          7            rajeev              rajeev1@entrolabs.com  9866667788   \n",
       "2         22            Rajeev              wijarknight@gmail.com  9502564528   \n",
       "3         25       Ramakrishna        r.ramakrishna2200@gmail.com  8639002165   \n",
       "4         29                Gv                     test@gmail.com  9965222332   \n",
       "...      ...               ... ..                             ...         ...   \n",
       "60656  65858      Sayyad Gouse           gousegouse2004@gmail.com  9849690925   \n",
       "60657  65859        Vashishta       vashishtarudrabatla@gmail.com  6302931183   \n",
       "60658  65860  K Vidya Sowmika          vidyasowmika2004@gmail.com  6305970536   \n",
       "60659  65861  Shrishti Chauhan     shrishtichauhanpanki@gmail.com  8299170426   \n",
       "60660  65862         Susmitha               mahitha0666@gmail.com  6304641540   \n",
       "\n",
       "                                                      5   6   7   8     9   \\\n",
       "0      $2b$12$6eFhJxj9p4NwoIxZapAxQe0W4e8ysJHgnTzNVuk...   1   1   5  2020   \n",
       "1      $2b$12$oYEwj7pd5NBbFoiRIre.leo6JF.uJqwrvAivNp2...   2   1   5  2022   \n",
       "2      $2b$12$eOnaUMNpppp/SoHg8m234.Od/qBDIvEHjgycapT...   1   2   6  2022   \n",
       "3      $2b$12$DBQ0L8aMI9FyyHJDRkHgP.Sz1XMi803DT5qUD2t...   2   1   1  2021   \n",
       "4      $2b$12$YxnjPmSzVNCjao0eh2iDYuQQmMJW3q/HGzOQSdH...   2   0   0         \n",
       "...                                                  ...  ..  ..  ..   ...   \n",
       "60656  $2b$12$e12fd2278f952fd0d4a8duV0NbonTwSPNscPGBa...   2   2   6  2022   \n",
       "60657  $2b$12$e12fd2278f952fd0d4a8duRwT9950.nr5MSZA9z...   2   2   6  2022   \n",
       "60658  $2b$12$e12fd2278f952fd0d4a8duB5sm1fvlDhonyMvrk...   2   2   3  2022   \n",
       "60659  $2b$12$e12fd2278f952fd0d4a8duv1Z3yscCsKwVBtZF7...   2   2   1  2022   \n",
       "60660  $2b$12$e12fd2278f952fd0d4a8duCkCpHa1/QgzBuNl5m...   2   2   1  2022   \n",
       "\n",
       "       ...                                                 24  25  26  \\\n",
       "0      ...  eZ5EWNbv3k4:APA91bE-kceZSipVQlN4V_nrRL6iYGNGWv...  27   0   \n",
       "1      ...                                                      0   0   \n",
       "2      ...  fL8F9-SBVyk:APA91bFxbIn34O-BsVJ-CA6EQIe8NjlQe6...  44   0   \n",
       "3      ...                                                      0   0   \n",
       "4      ...                                                      0   0   \n",
       "...    ...                                                ...  ..  ..   \n",
       "60656  ...                                                      0   0   \n",
       "60657  ...                                                      0   0   \n",
       "60658  ...                                                      0   0   \n",
       "60659  ...                                                      0   0   \n",
       "60660  ...                                                      0   0   \n",
       "\n",
       "                     27                                                 28  \\\n",
       "0      58fe150950e13f9c  eyJhbGciOiJIUzI1NiIsInR5cCI6IkpXVCJ9.eyJ1c2VyX...   \n",
       "1                                                                            \n",
       "2      b6af364b4106813d  eyJhbGciOiJIUzI1NiIsInR5cCI6IkpXVCJ9.eyJ1c2VyX...   \n",
       "3                                                                            \n",
       "4                                                                            \n",
       "...                 ...                                                ...   \n",
       "60656                                                                        \n",
       "60657                    eyJhbGciOiJIUzI1NiIsInR5cCI6IkpXVCJ9.eyJ1c2VyX...   \n",
       "60658                    eyJhbGciOiJIUzI1NiIsInR5cCI6IkpXVCJ9.eyJ1c2VyX...   \n",
       "60659                    eyJhbGciOiJIUzI1NiIsInR5cCI6IkpXVCJ9.eyJ1c2VyX...   \n",
       "60660                                                                        \n",
       "\n",
       "                     29  30 31 32    33  \n",
       "0      2766160143628799   1     0   NaN  \n",
       "1                         1     0   NaN  \n",
       "2                         1     0   NaN  \n",
       "3                         1     0   NaN  \n",
       "4                         1     0   NaN  \n",
       "...                 ...  .. .. ..   ...  \n",
       "60656                     2     0  24.0  \n",
       "60657                     2     0  24.0  \n",
       "60658                     2     0   1.0  \n",
       "60659                     2     1  26.0  \n",
       "60660                     2     1  24.0  \n",
       "\n",
       "[60661 rows x 34 columns]"
      ]
     },
     "execution_count": 38,
     "metadata": {},
     "output_type": "execute_result"
    }
   ],
   "source": [
    "cursor=db.cursor()\n",
    "cursor.execute(\"select * from student_users\")\n",
    "result=cursor.fetchall()\n",
    "result\n",
    "sql_df=pd.DataFrame(result)\n",
    "sql_df"
   ]
  },
  {
   "cell_type": "code",
   "execution_count": null,
   "id": "586fddfc",
   "metadata": {},
   "outputs": [],
   "source": []
  },
  {
   "cell_type": "code",
   "execution_count": null,
   "id": "d01aa9fb",
   "metadata": {},
   "outputs": [],
   "source": []
  }
 ],
 "metadata": {
  "kernelspec": {
   "display_name": "Python 3 (ipykernel)",
   "language": "python",
   "name": "python3"
  },
  "language_info": {
   "codemirror_mode": {
    "name": "ipython",
    "version": 3
   },
   "file_extension": ".py",
   "mimetype": "text/x-python",
   "name": "python",
   "nbconvert_exporter": "python",
   "pygments_lexer": "ipython3",
   "version": "3.9.12"
  }
 },
 "nbformat": 4,
 "nbformat_minor": 5
}
